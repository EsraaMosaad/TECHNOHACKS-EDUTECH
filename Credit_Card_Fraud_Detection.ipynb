{
  "nbformat": 4,
  "nbformat_minor": 0,
  "metadata": {
    "colab": {
      "provenance": [],
      "gpuType": "T4",
      "mount_file_id": "1sMX9GWSDfXvR6k2LTs_rshJq3pCidBIk",
      "authorship_tag": "ABX9TyPPj0ntudrEi4lx8kuRrhNI",
      "include_colab_link": true
    },
    "kernelspec": {
      "name": "python3",
      "display_name": "Python 3"
    },
    "language_info": {
      "name": "python"
    },
    "accelerator": "GPU"
  },
  "cells": [
    {
      "cell_type": "markdown",
      "metadata": {
        "id": "view-in-github",
        "colab_type": "text"
      },
      "source": [
        "<a href=\"https://colab.research.google.com/github/EsraaMosaad/TECHNOHACKS-EDUTECH/blob/main/Credit_Card_Fraud_Detection.ipynb\" target=\"_parent\"><img src=\"https://colab.research.google.com/assets/colab-badge.svg\" alt=\"Open In Colab\"/></a>"
      ]
    },
    {
      "cell_type": "code",
      "source": [
        "import pandas as pd\n",
        "import numpy as np\n",
        "import matplotlib.pyplot as plt"
      ],
      "metadata": {
        "id": "plqyd7jf2zw0"
      },
      "execution_count": 2,
      "outputs": []
    },
    {
      "cell_type": "code",
      "source": [
        "import warnings\n",
        "warnings.filterwarnings('ignore')"
      ],
      "metadata": {
        "id": "MknMHGNL2JTU"
      },
      "execution_count": 3,
      "outputs": []
    },
    {
      "cell_type": "code",
      "source": [
        "!pip install imbalanced-learn"
      ],
      "metadata": {
        "colab": {
          "base_uri": "https://localhost:8080/"
        },
        "id": "oxImFFIFjcP4",
        "outputId": "5621ce96-b7d5-4749-dcdc-ce35b59a29a0"
      },
      "execution_count": 9,
      "outputs": [
        {
          "output_type": "stream",
          "name": "stdout",
          "text": [
            "Requirement already satisfied: imbalanced-learn in /usr/local/lib/python3.10/dist-packages (0.10.1)\n",
            "Requirement already satisfied: numpy>=1.17.3 in /usr/local/lib/python3.10/dist-packages (from imbalanced-learn) (1.23.5)\n",
            "Requirement already satisfied: scipy>=1.3.2 in /usr/local/lib/python3.10/dist-packages (from imbalanced-learn) (1.11.3)\n",
            "Requirement already satisfied: scikit-learn>=1.0.2 in /usr/local/lib/python3.10/dist-packages (from imbalanced-learn) (1.2.2)\n",
            "Requirement already satisfied: joblib>=1.1.1 in /usr/local/lib/python3.10/dist-packages (from imbalanced-learn) (1.3.2)\n",
            "Requirement already satisfied: threadpoolctl>=2.0.0 in /usr/local/lib/python3.10/dist-packages (from imbalanced-learn) (3.2.0)\n"
          ]
        }
      ]
    },
    {
      "cell_type": "code",
      "source": [
        "!cp /content/drive/MyDrive/kaggle/kaggle.json ~/.kaggle/kaggle.json\n",
        "!chmod 600 ~/.kaggle/kaggle.json"
      ],
      "metadata": {
        "id": "96TZTt9n2Iw5"
      },
      "execution_count": 10,
      "outputs": []
    },
    {
      "cell_type": "code",
      "execution_count": 12,
      "metadata": {
        "colab": {
          "base_uri": "https://localhost:8080/"
        },
        "id": "c66NCGRV1rPB",
        "outputId": "f2d56291-33bb-4c13-d6d4-cc6bc0891901"
      },
      "outputs": [
        {
          "output_type": "stream",
          "name": "stdout",
          "text": [
            "creditcardfraud.zip: Skipping, found more recently modified local copy (use --force to force download)\n"
          ]
        }
      ],
      "source": [
        "!kaggle datasets download -d mlg-ulb/creditcardfraud"
      ]
    },
    {
      "cell_type": "code",
      "source": [
        "!unzip /content/creditcardfraud.zip"
      ],
      "metadata": {
        "colab": {
          "base_uri": "https://localhost:8080/"
        },
        "id": "1sZS9IXS2pMA",
        "outputId": "72acd596-6ab5-4ec8-a0f3-d9f755c73236"
      },
      "execution_count": 13,
      "outputs": [
        {
          "output_type": "stream",
          "name": "stdout",
          "text": [
            "Archive:  /content/creditcardfraud.zip\n",
            "  inflating: creditcard.csv          \n"
          ]
        }
      ]
    },
    {
      "cell_type": "code",
      "source": [
        "data=pd.read_csv('/content/creditcard.csv')"
      ],
      "metadata": {
        "id": "xuub40b_2uP7"
      },
      "execution_count": 14,
      "outputs": []
    },
    {
      "cell_type": "code",
      "source": [
        "data"
      ],
      "metadata": {
        "colab": {
          "base_uri": "https://localhost:8080/",
          "height": 443
        },
        "id": "IuS_7BQA3MP8",
        "outputId": "e7ad8fe2-491d-47f2-f8c0-399ebd838346"
      },
      "execution_count": 15,
      "outputs": [
        {
          "output_type": "execute_result",
          "data": {
            "text/plain": [
              "            Time         V1         V2        V3        V4        V5  \\\n",
              "0            0.0  -1.359807  -0.072781  2.536347  1.378155 -0.338321   \n",
              "1            0.0   1.191857   0.266151  0.166480  0.448154  0.060018   \n",
              "2            1.0  -1.358354  -1.340163  1.773209  0.379780 -0.503198   \n",
              "3            1.0  -0.966272  -0.185226  1.792993 -0.863291 -0.010309   \n",
              "4            2.0  -1.158233   0.877737  1.548718  0.403034 -0.407193   \n",
              "...          ...        ...        ...       ...       ...       ...   \n",
              "284802  172786.0 -11.881118  10.071785 -9.834783 -2.066656 -5.364473   \n",
              "284803  172787.0  -0.732789  -0.055080  2.035030 -0.738589  0.868229   \n",
              "284804  172788.0   1.919565  -0.301254 -3.249640 -0.557828  2.630515   \n",
              "284805  172788.0  -0.240440   0.530483  0.702510  0.689799 -0.377961   \n",
              "284806  172792.0  -0.533413  -0.189733  0.703337 -0.506271 -0.012546   \n",
              "\n",
              "              V6        V7        V8        V9  ...       V21       V22  \\\n",
              "0       0.462388  0.239599  0.098698  0.363787  ... -0.018307  0.277838   \n",
              "1      -0.082361 -0.078803  0.085102 -0.255425  ... -0.225775 -0.638672   \n",
              "2       1.800499  0.791461  0.247676 -1.514654  ...  0.247998  0.771679   \n",
              "3       1.247203  0.237609  0.377436 -1.387024  ... -0.108300  0.005274   \n",
              "4       0.095921  0.592941 -0.270533  0.817739  ... -0.009431  0.798278   \n",
              "...          ...       ...       ...       ...  ...       ...       ...   \n",
              "284802 -2.606837 -4.918215  7.305334  1.914428  ...  0.213454  0.111864   \n",
              "284803  1.058415  0.024330  0.294869  0.584800  ...  0.214205  0.924384   \n",
              "284804  3.031260 -0.296827  0.708417  0.432454  ...  0.232045  0.578229   \n",
              "284805  0.623708 -0.686180  0.679145  0.392087  ...  0.265245  0.800049   \n",
              "284806 -0.649617  1.577006 -0.414650  0.486180  ...  0.261057  0.643078   \n",
              "\n",
              "             V23       V24       V25       V26       V27       V28  Amount  \\\n",
              "0      -0.110474  0.066928  0.128539 -0.189115  0.133558 -0.021053  149.62   \n",
              "1       0.101288 -0.339846  0.167170  0.125895 -0.008983  0.014724    2.69   \n",
              "2       0.909412 -0.689281 -0.327642 -0.139097 -0.055353 -0.059752  378.66   \n",
              "3      -0.190321 -1.175575  0.647376 -0.221929  0.062723  0.061458  123.50   \n",
              "4      -0.137458  0.141267 -0.206010  0.502292  0.219422  0.215153   69.99   \n",
              "...          ...       ...       ...       ...       ...       ...     ...   \n",
              "284802  1.014480 -0.509348  1.436807  0.250034  0.943651  0.823731    0.77   \n",
              "284803  0.012463 -1.016226 -0.606624 -0.395255  0.068472 -0.053527   24.79   \n",
              "284804 -0.037501  0.640134  0.265745 -0.087371  0.004455 -0.026561   67.88   \n",
              "284805 -0.163298  0.123205 -0.569159  0.546668  0.108821  0.104533   10.00   \n",
              "284806  0.376777  0.008797 -0.473649 -0.818267 -0.002415  0.013649  217.00   \n",
              "\n",
              "        Class  \n",
              "0           0  \n",
              "1           0  \n",
              "2           0  \n",
              "3           0  \n",
              "4           0  \n",
              "...       ...  \n",
              "284802      0  \n",
              "284803      0  \n",
              "284804      0  \n",
              "284805      0  \n",
              "284806      0  \n",
              "\n",
              "[284807 rows x 31 columns]"
            ],
            "text/html": [
              "\n",
              "  <div id=\"df-6dc2b3bb-d944-43b0-80e4-adeefdf071cf\" class=\"colab-df-container\">\n",
              "    <div>\n",
              "<style scoped>\n",
              "    .dataframe tbody tr th:only-of-type {\n",
              "        vertical-align: middle;\n",
              "    }\n",
              "\n",
              "    .dataframe tbody tr th {\n",
              "        vertical-align: top;\n",
              "    }\n",
              "\n",
              "    .dataframe thead th {\n",
              "        text-align: right;\n",
              "    }\n",
              "</style>\n",
              "<table border=\"1\" class=\"dataframe\">\n",
              "  <thead>\n",
              "    <tr style=\"text-align: right;\">\n",
              "      <th></th>\n",
              "      <th>Time</th>\n",
              "      <th>V1</th>\n",
              "      <th>V2</th>\n",
              "      <th>V3</th>\n",
              "      <th>V4</th>\n",
              "      <th>V5</th>\n",
              "      <th>V6</th>\n",
              "      <th>V7</th>\n",
              "      <th>V8</th>\n",
              "      <th>V9</th>\n",
              "      <th>...</th>\n",
              "      <th>V21</th>\n",
              "      <th>V22</th>\n",
              "      <th>V23</th>\n",
              "      <th>V24</th>\n",
              "      <th>V25</th>\n",
              "      <th>V26</th>\n",
              "      <th>V27</th>\n",
              "      <th>V28</th>\n",
              "      <th>Amount</th>\n",
              "      <th>Class</th>\n",
              "    </tr>\n",
              "  </thead>\n",
              "  <tbody>\n",
              "    <tr>\n",
              "      <th>0</th>\n",
              "      <td>0.0</td>\n",
              "      <td>-1.359807</td>\n",
              "      <td>-0.072781</td>\n",
              "      <td>2.536347</td>\n",
              "      <td>1.378155</td>\n",
              "      <td>-0.338321</td>\n",
              "      <td>0.462388</td>\n",
              "      <td>0.239599</td>\n",
              "      <td>0.098698</td>\n",
              "      <td>0.363787</td>\n",
              "      <td>...</td>\n",
              "      <td>-0.018307</td>\n",
              "      <td>0.277838</td>\n",
              "      <td>-0.110474</td>\n",
              "      <td>0.066928</td>\n",
              "      <td>0.128539</td>\n",
              "      <td>-0.189115</td>\n",
              "      <td>0.133558</td>\n",
              "      <td>-0.021053</td>\n",
              "      <td>149.62</td>\n",
              "      <td>0</td>\n",
              "    </tr>\n",
              "    <tr>\n",
              "      <th>1</th>\n",
              "      <td>0.0</td>\n",
              "      <td>1.191857</td>\n",
              "      <td>0.266151</td>\n",
              "      <td>0.166480</td>\n",
              "      <td>0.448154</td>\n",
              "      <td>0.060018</td>\n",
              "      <td>-0.082361</td>\n",
              "      <td>-0.078803</td>\n",
              "      <td>0.085102</td>\n",
              "      <td>-0.255425</td>\n",
              "      <td>...</td>\n",
              "      <td>-0.225775</td>\n",
              "      <td>-0.638672</td>\n",
              "      <td>0.101288</td>\n",
              "      <td>-0.339846</td>\n",
              "      <td>0.167170</td>\n",
              "      <td>0.125895</td>\n",
              "      <td>-0.008983</td>\n",
              "      <td>0.014724</td>\n",
              "      <td>2.69</td>\n",
              "      <td>0</td>\n",
              "    </tr>\n",
              "    <tr>\n",
              "      <th>2</th>\n",
              "      <td>1.0</td>\n",
              "      <td>-1.358354</td>\n",
              "      <td>-1.340163</td>\n",
              "      <td>1.773209</td>\n",
              "      <td>0.379780</td>\n",
              "      <td>-0.503198</td>\n",
              "      <td>1.800499</td>\n",
              "      <td>0.791461</td>\n",
              "      <td>0.247676</td>\n",
              "      <td>-1.514654</td>\n",
              "      <td>...</td>\n",
              "      <td>0.247998</td>\n",
              "      <td>0.771679</td>\n",
              "      <td>0.909412</td>\n",
              "      <td>-0.689281</td>\n",
              "      <td>-0.327642</td>\n",
              "      <td>-0.139097</td>\n",
              "      <td>-0.055353</td>\n",
              "      <td>-0.059752</td>\n",
              "      <td>378.66</td>\n",
              "      <td>0</td>\n",
              "    </tr>\n",
              "    <tr>\n",
              "      <th>3</th>\n",
              "      <td>1.0</td>\n",
              "      <td>-0.966272</td>\n",
              "      <td>-0.185226</td>\n",
              "      <td>1.792993</td>\n",
              "      <td>-0.863291</td>\n",
              "      <td>-0.010309</td>\n",
              "      <td>1.247203</td>\n",
              "      <td>0.237609</td>\n",
              "      <td>0.377436</td>\n",
              "      <td>-1.387024</td>\n",
              "      <td>...</td>\n",
              "      <td>-0.108300</td>\n",
              "      <td>0.005274</td>\n",
              "      <td>-0.190321</td>\n",
              "      <td>-1.175575</td>\n",
              "      <td>0.647376</td>\n",
              "      <td>-0.221929</td>\n",
              "      <td>0.062723</td>\n",
              "      <td>0.061458</td>\n",
              "      <td>123.50</td>\n",
              "      <td>0</td>\n",
              "    </tr>\n",
              "    <tr>\n",
              "      <th>4</th>\n",
              "      <td>2.0</td>\n",
              "      <td>-1.158233</td>\n",
              "      <td>0.877737</td>\n",
              "      <td>1.548718</td>\n",
              "      <td>0.403034</td>\n",
              "      <td>-0.407193</td>\n",
              "      <td>0.095921</td>\n",
              "      <td>0.592941</td>\n",
              "      <td>-0.270533</td>\n",
              "      <td>0.817739</td>\n",
              "      <td>...</td>\n",
              "      <td>-0.009431</td>\n",
              "      <td>0.798278</td>\n",
              "      <td>-0.137458</td>\n",
              "      <td>0.141267</td>\n",
              "      <td>-0.206010</td>\n",
              "      <td>0.502292</td>\n",
              "      <td>0.219422</td>\n",
              "      <td>0.215153</td>\n",
              "      <td>69.99</td>\n",
              "      <td>0</td>\n",
              "    </tr>\n",
              "    <tr>\n",
              "      <th>...</th>\n",
              "      <td>...</td>\n",
              "      <td>...</td>\n",
              "      <td>...</td>\n",
              "      <td>...</td>\n",
              "      <td>...</td>\n",
              "      <td>...</td>\n",
              "      <td>...</td>\n",
              "      <td>...</td>\n",
              "      <td>...</td>\n",
              "      <td>...</td>\n",
              "      <td>...</td>\n",
              "      <td>...</td>\n",
              "      <td>...</td>\n",
              "      <td>...</td>\n",
              "      <td>...</td>\n",
              "      <td>...</td>\n",
              "      <td>...</td>\n",
              "      <td>...</td>\n",
              "      <td>...</td>\n",
              "      <td>...</td>\n",
              "      <td>...</td>\n",
              "    </tr>\n",
              "    <tr>\n",
              "      <th>284802</th>\n",
              "      <td>172786.0</td>\n",
              "      <td>-11.881118</td>\n",
              "      <td>10.071785</td>\n",
              "      <td>-9.834783</td>\n",
              "      <td>-2.066656</td>\n",
              "      <td>-5.364473</td>\n",
              "      <td>-2.606837</td>\n",
              "      <td>-4.918215</td>\n",
              "      <td>7.305334</td>\n",
              "      <td>1.914428</td>\n",
              "      <td>...</td>\n",
              "      <td>0.213454</td>\n",
              "      <td>0.111864</td>\n",
              "      <td>1.014480</td>\n",
              "      <td>-0.509348</td>\n",
              "      <td>1.436807</td>\n",
              "      <td>0.250034</td>\n",
              "      <td>0.943651</td>\n",
              "      <td>0.823731</td>\n",
              "      <td>0.77</td>\n",
              "      <td>0</td>\n",
              "    </tr>\n",
              "    <tr>\n",
              "      <th>284803</th>\n",
              "      <td>172787.0</td>\n",
              "      <td>-0.732789</td>\n",
              "      <td>-0.055080</td>\n",
              "      <td>2.035030</td>\n",
              "      <td>-0.738589</td>\n",
              "      <td>0.868229</td>\n",
              "      <td>1.058415</td>\n",
              "      <td>0.024330</td>\n",
              "      <td>0.294869</td>\n",
              "      <td>0.584800</td>\n",
              "      <td>...</td>\n",
              "      <td>0.214205</td>\n",
              "      <td>0.924384</td>\n",
              "      <td>0.012463</td>\n",
              "      <td>-1.016226</td>\n",
              "      <td>-0.606624</td>\n",
              "      <td>-0.395255</td>\n",
              "      <td>0.068472</td>\n",
              "      <td>-0.053527</td>\n",
              "      <td>24.79</td>\n",
              "      <td>0</td>\n",
              "    </tr>\n",
              "    <tr>\n",
              "      <th>284804</th>\n",
              "      <td>172788.0</td>\n",
              "      <td>1.919565</td>\n",
              "      <td>-0.301254</td>\n",
              "      <td>-3.249640</td>\n",
              "      <td>-0.557828</td>\n",
              "      <td>2.630515</td>\n",
              "      <td>3.031260</td>\n",
              "      <td>-0.296827</td>\n",
              "      <td>0.708417</td>\n",
              "      <td>0.432454</td>\n",
              "      <td>...</td>\n",
              "      <td>0.232045</td>\n",
              "      <td>0.578229</td>\n",
              "      <td>-0.037501</td>\n",
              "      <td>0.640134</td>\n",
              "      <td>0.265745</td>\n",
              "      <td>-0.087371</td>\n",
              "      <td>0.004455</td>\n",
              "      <td>-0.026561</td>\n",
              "      <td>67.88</td>\n",
              "      <td>0</td>\n",
              "    </tr>\n",
              "    <tr>\n",
              "      <th>284805</th>\n",
              "      <td>172788.0</td>\n",
              "      <td>-0.240440</td>\n",
              "      <td>0.530483</td>\n",
              "      <td>0.702510</td>\n",
              "      <td>0.689799</td>\n",
              "      <td>-0.377961</td>\n",
              "      <td>0.623708</td>\n",
              "      <td>-0.686180</td>\n",
              "      <td>0.679145</td>\n",
              "      <td>0.392087</td>\n",
              "      <td>...</td>\n",
              "      <td>0.265245</td>\n",
              "      <td>0.800049</td>\n",
              "      <td>-0.163298</td>\n",
              "      <td>0.123205</td>\n",
              "      <td>-0.569159</td>\n",
              "      <td>0.546668</td>\n",
              "      <td>0.108821</td>\n",
              "      <td>0.104533</td>\n",
              "      <td>10.00</td>\n",
              "      <td>0</td>\n",
              "    </tr>\n",
              "    <tr>\n",
              "      <th>284806</th>\n",
              "      <td>172792.0</td>\n",
              "      <td>-0.533413</td>\n",
              "      <td>-0.189733</td>\n",
              "      <td>0.703337</td>\n",
              "      <td>-0.506271</td>\n",
              "      <td>-0.012546</td>\n",
              "      <td>-0.649617</td>\n",
              "      <td>1.577006</td>\n",
              "      <td>-0.414650</td>\n",
              "      <td>0.486180</td>\n",
              "      <td>...</td>\n",
              "      <td>0.261057</td>\n",
              "      <td>0.643078</td>\n",
              "      <td>0.376777</td>\n",
              "      <td>0.008797</td>\n",
              "      <td>-0.473649</td>\n",
              "      <td>-0.818267</td>\n",
              "      <td>-0.002415</td>\n",
              "      <td>0.013649</td>\n",
              "      <td>217.00</td>\n",
              "      <td>0</td>\n",
              "    </tr>\n",
              "  </tbody>\n",
              "</table>\n",
              "<p>284807 rows × 31 columns</p>\n",
              "</div>\n",
              "    <div class=\"colab-df-buttons\">\n",
              "\n",
              "  <div class=\"colab-df-container\">\n",
              "    <button class=\"colab-df-convert\" onclick=\"convertToInteractive('df-6dc2b3bb-d944-43b0-80e4-adeefdf071cf')\"\n",
              "            title=\"Convert this dataframe to an interactive table.\"\n",
              "            style=\"display:none;\">\n",
              "\n",
              "  <svg xmlns=\"http://www.w3.org/2000/svg\" height=\"24px\" viewBox=\"0 -960 960 960\">\n",
              "    <path d=\"M120-120v-720h720v720H120Zm60-500h600v-160H180v160Zm220 220h160v-160H400v160Zm0 220h160v-160H400v160ZM180-400h160v-160H180v160Zm440 0h160v-160H620v160ZM180-180h160v-160H180v160Zm440 0h160v-160H620v160Z\"/>\n",
              "  </svg>\n",
              "    </button>\n",
              "\n",
              "  <style>\n",
              "    .colab-df-container {\n",
              "      display:flex;\n",
              "      gap: 12px;\n",
              "    }\n",
              "\n",
              "    .colab-df-convert {\n",
              "      background-color: #E8F0FE;\n",
              "      border: none;\n",
              "      border-radius: 50%;\n",
              "      cursor: pointer;\n",
              "      display: none;\n",
              "      fill: #1967D2;\n",
              "      height: 32px;\n",
              "      padding: 0 0 0 0;\n",
              "      width: 32px;\n",
              "    }\n",
              "\n",
              "    .colab-df-convert:hover {\n",
              "      background-color: #E2EBFA;\n",
              "      box-shadow: 0px 1px 2px rgba(60, 64, 67, 0.3), 0px 1px 3px 1px rgba(60, 64, 67, 0.15);\n",
              "      fill: #174EA6;\n",
              "    }\n",
              "\n",
              "    .colab-df-buttons div {\n",
              "      margin-bottom: 4px;\n",
              "    }\n",
              "\n",
              "    [theme=dark] .colab-df-convert {\n",
              "      background-color: #3B4455;\n",
              "      fill: #D2E3FC;\n",
              "    }\n",
              "\n",
              "    [theme=dark] .colab-df-convert:hover {\n",
              "      background-color: #434B5C;\n",
              "      box-shadow: 0px 1px 3px 1px rgba(0, 0, 0, 0.15);\n",
              "      filter: drop-shadow(0px 1px 2px rgba(0, 0, 0, 0.3));\n",
              "      fill: #FFFFFF;\n",
              "    }\n",
              "  </style>\n",
              "\n",
              "    <script>\n",
              "      const buttonEl =\n",
              "        document.querySelector('#df-6dc2b3bb-d944-43b0-80e4-adeefdf071cf button.colab-df-convert');\n",
              "      buttonEl.style.display =\n",
              "        google.colab.kernel.accessAllowed ? 'block' : 'none';\n",
              "\n",
              "      async function convertToInteractive(key) {\n",
              "        const element = document.querySelector('#df-6dc2b3bb-d944-43b0-80e4-adeefdf071cf');\n",
              "        const dataTable =\n",
              "          await google.colab.kernel.invokeFunction('convertToInteractive',\n",
              "                                                    [key], {});\n",
              "        if (!dataTable) return;\n",
              "\n",
              "        const docLinkHtml = 'Like what you see? Visit the ' +\n",
              "          '<a target=\"_blank\" href=https://colab.research.google.com/notebooks/data_table.ipynb>data table notebook</a>'\n",
              "          + ' to learn more about interactive tables.';\n",
              "        element.innerHTML = '';\n",
              "        dataTable['output_type'] = 'display_data';\n",
              "        await google.colab.output.renderOutput(dataTable, element);\n",
              "        const docLink = document.createElement('div');\n",
              "        docLink.innerHTML = docLinkHtml;\n",
              "        element.appendChild(docLink);\n",
              "      }\n",
              "    </script>\n",
              "  </div>\n",
              "\n",
              "\n",
              "<div id=\"df-9d9b7ada-8802-474a-8c8c-56d659cb3917\">\n",
              "  <button class=\"colab-df-quickchart\" onclick=\"quickchart('df-9d9b7ada-8802-474a-8c8c-56d659cb3917')\"\n",
              "            title=\"Suggest charts\"\n",
              "            style=\"display:none;\">\n",
              "\n",
              "<svg xmlns=\"http://www.w3.org/2000/svg\" height=\"24px\"viewBox=\"0 0 24 24\"\n",
              "     width=\"24px\">\n",
              "    <g>\n",
              "        <path d=\"M19 3H5c-1.1 0-2 .9-2 2v14c0 1.1.9 2 2 2h14c1.1 0 2-.9 2-2V5c0-1.1-.9-2-2-2zM9 17H7v-7h2v7zm4 0h-2V7h2v10zm4 0h-2v-4h2v4z\"/>\n",
              "    </g>\n",
              "</svg>\n",
              "  </button>\n",
              "\n",
              "<style>\n",
              "  .colab-df-quickchart {\n",
              "      --bg-color: #E8F0FE;\n",
              "      --fill-color: #1967D2;\n",
              "      --hover-bg-color: #E2EBFA;\n",
              "      --hover-fill-color: #174EA6;\n",
              "      --disabled-fill-color: #AAA;\n",
              "      --disabled-bg-color: #DDD;\n",
              "  }\n",
              "\n",
              "  [theme=dark] .colab-df-quickchart {\n",
              "      --bg-color: #3B4455;\n",
              "      --fill-color: #D2E3FC;\n",
              "      --hover-bg-color: #434B5C;\n",
              "      --hover-fill-color: #FFFFFF;\n",
              "      --disabled-bg-color: #3B4455;\n",
              "      --disabled-fill-color: #666;\n",
              "  }\n",
              "\n",
              "  .colab-df-quickchart {\n",
              "    background-color: var(--bg-color);\n",
              "    border: none;\n",
              "    border-radius: 50%;\n",
              "    cursor: pointer;\n",
              "    display: none;\n",
              "    fill: var(--fill-color);\n",
              "    height: 32px;\n",
              "    padding: 0;\n",
              "    width: 32px;\n",
              "  }\n",
              "\n",
              "  .colab-df-quickchart:hover {\n",
              "    background-color: var(--hover-bg-color);\n",
              "    box-shadow: 0 1px 2px rgba(60, 64, 67, 0.3), 0 1px 3px 1px rgba(60, 64, 67, 0.15);\n",
              "    fill: var(--button-hover-fill-color);\n",
              "  }\n",
              "\n",
              "  .colab-df-quickchart-complete:disabled,\n",
              "  .colab-df-quickchart-complete:disabled:hover {\n",
              "    background-color: var(--disabled-bg-color);\n",
              "    fill: var(--disabled-fill-color);\n",
              "    box-shadow: none;\n",
              "  }\n",
              "\n",
              "  .colab-df-spinner {\n",
              "    border: 2px solid var(--fill-color);\n",
              "    border-color: transparent;\n",
              "    border-bottom-color: var(--fill-color);\n",
              "    animation:\n",
              "      spin 1s steps(1) infinite;\n",
              "  }\n",
              "\n",
              "  @keyframes spin {\n",
              "    0% {\n",
              "      border-color: transparent;\n",
              "      border-bottom-color: var(--fill-color);\n",
              "      border-left-color: var(--fill-color);\n",
              "    }\n",
              "    20% {\n",
              "      border-color: transparent;\n",
              "      border-left-color: var(--fill-color);\n",
              "      border-top-color: var(--fill-color);\n",
              "    }\n",
              "    30% {\n",
              "      border-color: transparent;\n",
              "      border-left-color: var(--fill-color);\n",
              "      border-top-color: var(--fill-color);\n",
              "      border-right-color: var(--fill-color);\n",
              "    }\n",
              "    40% {\n",
              "      border-color: transparent;\n",
              "      border-right-color: var(--fill-color);\n",
              "      border-top-color: var(--fill-color);\n",
              "    }\n",
              "    60% {\n",
              "      border-color: transparent;\n",
              "      border-right-color: var(--fill-color);\n",
              "    }\n",
              "    80% {\n",
              "      border-color: transparent;\n",
              "      border-right-color: var(--fill-color);\n",
              "      border-bottom-color: var(--fill-color);\n",
              "    }\n",
              "    90% {\n",
              "      border-color: transparent;\n",
              "      border-bottom-color: var(--fill-color);\n",
              "    }\n",
              "  }\n",
              "</style>\n",
              "\n",
              "  <script>\n",
              "    async function quickchart(key) {\n",
              "      const quickchartButtonEl =\n",
              "        document.querySelector('#' + key + ' button');\n",
              "      quickchartButtonEl.disabled = true;  // To prevent multiple clicks.\n",
              "      quickchartButtonEl.classList.add('colab-df-spinner');\n",
              "      try {\n",
              "        const charts = await google.colab.kernel.invokeFunction(\n",
              "            'suggestCharts', [key], {});\n",
              "      } catch (error) {\n",
              "        console.error('Error during call to suggestCharts:', error);\n",
              "      }\n",
              "      quickchartButtonEl.classList.remove('colab-df-spinner');\n",
              "      quickchartButtonEl.classList.add('colab-df-quickchart-complete');\n",
              "    }\n",
              "    (() => {\n",
              "      let quickchartButtonEl =\n",
              "        document.querySelector('#df-9d9b7ada-8802-474a-8c8c-56d659cb3917 button');\n",
              "      quickchartButtonEl.style.display =\n",
              "        google.colab.kernel.accessAllowed ? 'block' : 'none';\n",
              "    })();\n",
              "  </script>\n",
              "</div>\n",
              "    </div>\n",
              "  </div>\n"
            ]
          },
          "metadata": {},
          "execution_count": 15
        }
      ]
    },
    {
      "cell_type": "code",
      "source": [
        "x_data=data.drop(['Class'],axis=1)\n",
        "y_data=data['Class']"
      ],
      "metadata": {
        "id": "NBM5ukA3jIii"
      },
      "execution_count": 16,
      "outputs": []
    },
    {
      "cell_type": "markdown",
      "source": [
        "# **Class distribution**"
      ],
      "metadata": {
        "id": "aE2EhDovkvVd"
      }
    },
    {
      "cell_type": "code",
      "source": [
        "from matplotlib.pyplot import plot"
      ],
      "metadata": {
        "id": "gBtFtWQrllXQ"
      },
      "execution_count": 17,
      "outputs": []
    },
    {
      "cell_type": "code",
      "source": [
        "y_data.value_counts()"
      ],
      "metadata": {
        "colab": {
          "base_uri": "https://localhost:8080/"
        },
        "id": "w3NmmBSPklea",
        "outputId": "b8c3c412-67d0-4065-9764-8bc319f09902"
      },
      "execution_count": 18,
      "outputs": [
        {
          "output_type": "execute_result",
          "data": {
            "text/plain": [
              "0    284315\n",
              "1       492\n",
              "Name: Class, dtype: int64"
            ]
          },
          "metadata": {},
          "execution_count": 18
        }
      ]
    },
    {
      "cell_type": "code",
      "source": [
        "y_data.value_counts().plot.pie(autopct='%.2f')"
      ],
      "metadata": {
        "colab": {
          "base_uri": "https://localhost:8080/",
          "height": 424
        },
        "id": "U7vTPpzfk25u",
        "outputId": "5fe8317e-e5bd-4fa5-9e20-580f35f089d7"
      },
      "execution_count": 19,
      "outputs": [
        {
          "output_type": "execute_result",
          "data": {
            "text/plain": [
              "<Axes: ylabel='Class'>"
            ]
          },
          "metadata": {},
          "execution_count": 19
        },
        {
          "output_type": "display_data",
          "data": {
            "text/plain": [
              "<Figure size 640x480 with 1 Axes>"
            ],
            "image/png": "[encoded data removed]"
          },
          "metadata": {}
        }
      ]
    },
    {
      "cell_type": "markdown",
      "source": [
        "# **Random Undersampling**\n",
        "Here we are going to reduce the size of majority class \" class 1\" and be same as minority class \" class 0\""
      ],
      "metadata": {
        "id": "wensRiCsl9Qn"
      }
    },
    {
      "cell_type": "code",
      "source": [
        "from imblearn.under_sampling import RandomUnderSampler\n",
        "\n",
        "\n",
        "rus=RandomUnderSampler(sampling_strategy=1)\n",
        "\n",
        "x_res_under,y_res_under=rus.fit_resample(x_data,y_data)\n",
        "\n",
        "ax=y_res.value_counts().plot.pie(autopct='%.2f')\n",
        "_=ax.set_title('Under_sampling')"
      ],
      "metadata": {
        "colab": {
          "base_uri": "https://localhost:8080/",
          "height": 428
        },
        "id": "6HY-eRBJmEIW",
        "outputId": "dc469a83-b63c-4352-c143-6c9dca3b2e38"
      },
      "execution_count": 30,
      "outputs": [
        {
          "output_type": "display_data",
          "data": {
            "text/plain": [
              "<Figure size 640x480 with 1 Axes>"
            ],
            "image/png": "[encoded data removed]"
          },
          "metadata": {}
        }
      ]
    },
    {
      "cell_type": "code",
      "source": [
        "y_res_under.value_counts()"
      ],
      "metadata": {
        "colab": {
          "base_uri": "https://localhost:8080/"
        },
        "id": "z6HBP8OtqzYw",
        "outputId": "70be3f3e-e42b-4099-cb8d-8f7579c9133c"
      },
      "execution_count": 31,
      "outputs": [
        {
          "output_type": "execute_result",
          "data": {
            "text/plain": [
              "0    492\n",
              "1    492\n",
              "Name: Class, dtype: int64"
            ]
          },
          "metadata": {},
          "execution_count": 31
        }
      ]
    },
    {
      "cell_type": "markdown",
      "source": [
        "# **Random Oversampling**\n",
        "Here we are going to incrase minority class \"0\" to equal majority class \"1\""
      ],
      "metadata": {
        "id": "KcbfN7_hmvdd"
      }
    },
    {
      "cell_type": "code",
      "source": [
        "from imblearn.over_sampling import RandomOverSampler\n",
        "\n",
        "\n",
        "ros=RandomOverSampler(sampling_strategy='not majority')\n",
        "\n",
        "x_res,y_res=ros.fit_resample(x_data,y_data)\n",
        "\n",
        "ax=y_res.value_counts().plot.pie(autopct='%.2f')\n",
        "_=ax.set_title('Under_sampling')"
      ],
      "metadata": {
        "colab": {
          "base_uri": "https://localhost:8080/",
          "height": 428
        },
        "id": "yj3jLQf2nT6l",
        "outputId": "db710763-51fe-481f-db20-a22400c2ba7d"
      },
      "execution_count": 22,
      "outputs": [
        {
          "output_type": "display_data",
          "data": {
            "text/plain": [
              "<Figure size 640x480 with 1 Axes>"
            ],
            "image/png": "[encoded data removed]"
          },
          "metadata": {}
        }
      ]
    },
    {
      "cell_type": "code",
      "source": [
        "y_res.value_counts()"
      ],
      "metadata": {
        "colab": {
          "base_uri": "https://localhost:8080/"
        },
        "id": "I9aXNy5wrgPB",
        "outputId": "6f82c56c-cdb9-4440-c4da-ea4da541aa0d"
      },
      "execution_count": 23,
      "outputs": [
        {
          "output_type": "execute_result",
          "data": {
            "text/plain": [
              "0    284315\n",
              "1    284315\n",
              "Name: Class, dtype: int64"
            ]
          },
          "metadata": {},
          "execution_count": 23
        }
      ]
    },
    {
      "cell_type": "markdown",
      "source": [
        "# **Build a model (ANN) in tensorflow/keras**"
      ],
      "metadata": {
        "id": "fVU0vgDr1pMa"
      }
    },
    {
      "cell_type": "code",
      "source": [
        "!pip install tensorflow_addons"
      ],
      "metadata": {
        "colab": {
          "base_uri": "https://localhost:8080/"
        },
        "id": "tbDSMLPX19SK",
        "outputId": "202c549f-6ac0-4478-fd16-74f3cd49a3cb"
      },
      "execution_count": 24,
      "outputs": [
        {
          "output_type": "stream",
          "name": "stdout",
          "text": [
            "Collecting tensorflow_addons\n",
            "  Downloading tensorflow_addons-0.22.0-cp310-cp310-manylinux_2_17_x86_64.manylinux2014_x86_64.whl (612 kB)\n",
            "\u001b[2K     \u001b[90m━━━━━━━━━━━━━━━━━━━━━━━━━━━━━━━━━━━━━━━━\u001b[0m \u001b[32m612.3/612.3 kB\u001b[0m \u001b[31m8.6 MB/s\u001b[0m eta \u001b[36m0:00:00\u001b[0m\n",
            "\u001b[?25hRequirement already satisfied: packaging in /usr/local/lib/python3.10/dist-packages (from tensorflow_addons) (23.2)\n",
            "Collecting typeguard<3.0.0,>=2.7 (from tensorflow_addons)\n",
            "  Downloading typeguard-2.13.3-py3-none-any.whl (17 kB)\n",
            "Installing collected packages: typeguard, tensorflow_addons\n",
            "Successfully installed tensorflow_addons-0.22.0 typeguard-2.13.3\n"
          ]
        }
      ]
    },
    {
      "cell_type": "code",
      "source": [
        "from tensorflow_addons import losses"
      ],
      "metadata": {
        "id": "YqA9KxIr15Mu"
      },
      "execution_count": 25,
      "outputs": []
    },
    {
      "cell_type": "code",
      "source": [
        "import tensorflow as tf\n",
        "from tensorflow import keras\n",
        "from sklearn.metrics import confusion_matrix , classification_report\n"
      ],
      "metadata": {
        "id": "phf7ENj5sElh"
      },
      "execution_count": 26,
      "outputs": []
    },
    {
      "cell_type": "code",
      "source": [
        "from sklearn.model_selection import train_test_split\n",
        "X_train, X_test, y_train, y_test = train_test_split(x_res, y_res, test_size=0.2, random_state=15, stratify=y_res)\n",
        "y_train.value_counts()"
      ],
      "metadata": {
        "colab": {
          "base_uri": "https://localhost:8080/"
        },
        "id": "p_DhZAvz2mI2",
        "outputId": "9b83955b-e471-497c-adf0-5ea86df13ec5"
      },
      "execution_count": 27,
      "outputs": [
        {
          "output_type": "execute_result",
          "data": {
            "text/plain": [
              "0    227452\n",
              "1    227452\n",
              "Name: Class, dtype: int64"
            ]
          },
          "metadata": {},
          "execution_count": 27
        }
      ]
    },
    {
      "cell_type": "code",
      "source": [
        "def ANN(X_train, y_train, X_test, y_test, loss, weights):\n",
        "    model = keras.Sequential([\n",
        "        keras.layers.Dense(26, input_dim=30, activation='relu'),\n",
        "        keras.layers.Dense(15, activation='relu'),\n",
        "        keras.layers.Dense(1, activation='sigmoid')\n",
        "    ])\n",
        "\n",
        "    model.compile(optimizer='adam', loss=loss, metrics=['accuracy'])\n",
        "\n",
        "    if weights == -1:\n",
        "        model.fit(X_train, y_train, epochs=50)\n",
        "    else:\n",
        "        model.fit(X_train, y_train, epochs=50, class_weight = weights)\n",
        "\n",
        "    print(model.evaluate(X_test, y_test))\n",
        "\n",
        "    y_preds = model.predict(X_test)\n",
        "    y_preds = np.round(y_preds)\n",
        "\n",
        "    print(\"Classification Report: \\n\", classification_report(y_test, y_preds))\n",
        "\n",
        "    return y_preds"
      ],
      "metadata": {
        "id": "fjre-UHs2NN_"
      },
      "execution_count": 28,
      "outputs": []
    },
    {
      "cell_type": "code",
      "source": [
        "y_preds = ANN(X_train, y_train, X_test, y_test, 'binary_crossentropy', -1)\n"
      ],
      "metadata": {
        "colab": {
          "base_uri": "https://localhost:8080/"
        },
        "id": "bLyx8pjX2WOu",
        "outputId": "b57020e4-76f4-466f-e38c-73e30d628b6e"
      },
      "execution_count": 29,
      "outputs": [
        {
          "output_type": "stream",
          "name": "stdout",
          "text": [
            "Epoch 1/50\n",
            "14216/14216 [==============================] - 71s 4ms/step - loss: 26.2323 - accuracy: 0.7872\n",
            "Epoch 2/50\n",
            "14216/14216 [==============================] - 50s 3ms/step - loss: 10.5507 - accuracy: 0.8868\n",
            "Epoch 3/50\n",
            "14216/14216 [==============================] - 51s 4ms/step - loss: 6.9204 - accuracy: 0.9040\n",
            "Epoch 4/50\n",
            "14216/14216 [==============================] - 51s 4ms/step - loss: 4.6908 - accuracy: 0.9104\n",
            "Epoch 5/50\n",
            "14216/14216 [==============================] - 52s 4ms/step - loss: 2.1618 - accuracy: 0.9150\n",
            "Epoch 6/50\n",
            "14216/14216 [==============================] - 51s 4ms/step - loss: 0.8671 - accuracy: 0.9207\n",
            "Epoch 7/50\n",
            "14216/14216 [==============================] - 50s 4ms/step - loss: 0.3045 - accuracy: 0.9303\n",
            "Epoch 8/50\n",
            "14216/14216 [==============================] - 52s 4ms/step - loss: 0.1782 - accuracy: 0.9360\n",
            "Epoch 9/50\n",
            "14216/14216 [==============================] - 50s 4ms/step - loss: 0.1678 - accuracy: 0.9394\n",
            "Epoch 10/50\n",
            "14216/14216 [==============================] - 50s 4ms/step - loss: 0.1656 - accuracy: 0.9402\n",
            "Epoch 11/50\n",
            "14216/14216 [==============================] - 50s 4ms/step - loss: 0.1625 - accuracy: 0.9412\n",
            "Epoch 12/50\n",
            "14216/14216 [==============================] - 53s 4ms/step - loss: 0.1605 - accuracy: 0.9415\n",
            "Epoch 13/50\n",
            "14216/14216 [==============================] - 51s 4ms/step - loss: 0.1581 - accuracy: 0.9424\n",
            "Epoch 14/50\n",
            "14216/14216 [==============================] - 50s 4ms/step - loss: 0.1561 - accuracy: 0.9433\n",
            "Epoch 15/50\n",
            "14216/14216 [==============================] - 50s 3ms/step - loss: 0.1532 - accuracy: 0.9436\n",
            "Epoch 16/50\n",
            "14216/14216 [==============================] - 52s 4ms/step - loss: 0.1549 - accuracy: 0.9433\n",
            "Epoch 17/50\n",
            "14216/14216 [==============================] - 50s 4ms/step - loss: 0.1533 - accuracy: 0.9440\n",
            "Epoch 18/50\n",
            "14216/14216 [==============================] - 50s 4ms/step - loss: 0.1527 - accuracy: 0.9439\n",
            "Epoch 19/50\n",
            "14216/14216 [==============================] - 52s 4ms/step - loss: 0.1522 - accuracy: 0.9442\n",
            "Epoch 20/50\n",
            "14216/14216 [==============================] - 50s 4ms/step - loss: 0.1534 - accuracy: 0.9439\n",
            "Epoch 21/50\n",
            "14216/14216 [==============================] - 51s 4ms/step - loss: 0.1538 - accuracy: 0.9443\n",
            "Epoch 22/50\n",
            "14216/14216 [==============================] - 50s 4ms/step - loss: 0.1549 - accuracy: 0.9443\n",
            "Epoch 23/50\n",
            "14216/14216 [==============================] - 52s 4ms/step - loss: 0.1514 - accuracy: 0.9449\n",
            "Epoch 24/50\n",
            "14216/14216 [==============================] - 50s 3ms/step - loss: 0.1536 - accuracy: 0.9442\n",
            "Epoch 25/50\n",
            "14216/14216 [==============================] - 49s 3ms/step - loss: 0.1524 - accuracy: 0.9449\n",
            "Epoch 26/50\n",
            "14216/14216 [==============================] - 52s 4ms/step - loss: 0.1504 - accuracy: 0.9449\n",
            "Epoch 27/50\n",
            "14216/14216 [==============================] - 50s 4ms/step - loss: 0.1519 - accuracy: 0.9449\n",
            "Epoch 28/50\n",
            "14216/14216 [==============================] - 51s 4ms/step - loss: 0.1515 - accuracy: 0.9450\n",
            "Epoch 29/50\n",
            "14216/14216 [==============================] - 50s 4ms/step - loss: 0.1506 - accuracy: 0.9450\n",
            "Epoch 30/50\n",
            "14216/14216 [==============================] - 52s 4ms/step - loss: 0.1512 - accuracy: 0.9447\n",
            "Epoch 31/50\n",
            "14216/14216 [==============================] - 51s 4ms/step - loss: 0.1499 - accuracy: 0.9452\n",
            "Epoch 32/50\n",
            "14216/14216 [==============================] - 50s 4ms/step - loss: 0.1500 - accuracy: 0.9455\n",
            "Epoch 33/50\n",
            "14216/14216 [==============================] - 50s 4ms/step - loss: 0.1488 - accuracy: 0.9460\n",
            "Epoch 34/50\n",
            "14216/14216 [==============================] - 53s 4ms/step - loss: 0.1489 - accuracy: 0.9457\n",
            "Epoch 35/50\n",
            "14216/14216 [==============================] - 50s 4ms/step - loss: 0.1505 - accuracy: 0.9452\n",
            "Epoch 36/50\n",
            "14216/14216 [==============================] - 50s 3ms/step - loss: 0.1511 - accuracy: 0.9448\n",
            "Epoch 37/50\n",
            "14216/14216 [==============================] - 50s 4ms/step - loss: 0.1543 - accuracy: 0.9442\n",
            "Epoch 38/50\n",
            "14216/14216 [==============================] - 52s 4ms/step - loss: 0.1503 - accuracy: 0.9452\n",
            "Epoch 39/50\n",
            "14216/14216 [==============================] - 50s 4ms/step - loss: 0.1526 - accuracy: 0.9447\n",
            "Epoch 40/50\n",
            "14216/14216 [==============================] - 53s 4ms/step - loss: 0.1524 - accuracy: 0.9448\n",
            "Epoch 41/50\n",
            "14216/14216 [==============================] - 50s 4ms/step - loss: 0.1507 - accuracy: 0.9450\n",
            "Epoch 42/50\n",
            "14216/14216 [==============================] - 52s 4ms/step - loss: 0.1492 - accuracy: 0.9452\n",
            "Epoch 43/50\n",
            "14216/14216 [==============================] - 50s 3ms/step - loss: 0.1543 - accuracy: 0.9445\n",
            "Epoch 44/50\n",
            "14216/14216 [==============================] - 51s 4ms/step - loss: 0.1525 - accuracy: 0.9448\n",
            "Epoch 45/50\n",
            "14216/14216 [==============================] - 50s 4ms/step - loss: 0.1525 - accuracy: 0.9450\n",
            "Epoch 46/50\n",
            "14216/14216 [==============================] - 52s 4ms/step - loss: 0.1512 - accuracy: 0.9452\n",
            "Epoch 47/50\n",
            "14216/14216 [==============================] - 51s 4ms/step - loss: 0.1518 - accuracy: 0.9453\n",
            "Epoch 48/50\n",
            "14216/14216 [==============================] - 50s 4ms/step - loss: 0.1503 - accuracy: 0.9453\n",
            "Epoch 49/50\n",
            "14216/14216 [==============================] - 51s 4ms/step - loss: 0.1518 - accuracy: 0.9456\n",
            "Epoch 50/50\n",
            "14216/14216 [==============================] - 52s 4ms/step - loss: 0.1521 - accuracy: 0.9450\n",
            "3554/3554 [==============================] - 10s 3ms/step - loss: 0.1906 - accuracy: 0.9394\n",
            "[0.19056008756160736, 0.9393894076347351]\n",
            "3554/3554 [==============================] - 6s 2ms/step\n",
            "Classification Report: \n",
            "               precision    recall  f1-score   support\n",
            "\n",
            "           0       0.90      1.00      0.94     56863\n",
            "           1       0.99      0.88      0.94     56863\n",
            "\n",
            "    accuracy                           0.94    113726\n",
            "   macro avg       0.94      0.94      0.94    113726\n",
            "weighted avg       0.94      0.94      0.94    113726\n",
            "\n"
          ]
        }
      ]
    },
    {
      "cell_type": "code",
      "source": [
        "X_train, X_test, y_train, y_test = train_test_split(x_res_under, y_res_under, test_size=0.2, random_state=15, stratify=y_res_under)\n",
        "y_train.value_counts()"
      ],
      "metadata": {
        "colab": {
          "base_uri": "https://localhost:8080/"
        },
        "id": "qbOJWyhh6IxL",
        "outputId": "bb31e809-f78a-4033-fb9e-9cc8fa76c5dd"
      },
      "execution_count": 32,
      "outputs": [
        {
          "output_type": "execute_result",
          "data": {
            "text/plain": [
              "1    394\n",
              "0    393\n",
              "Name: Class, dtype: int64"
            ]
          },
          "metadata": {},
          "execution_count": 32
        }
      ]
    },
    {
      "cell_type": "code",
      "source": [
        "y_preds = ANN(X_train, y_train, X_test, y_test, 'binary_crossentropy', -1)"
      ],
      "metadata": {
        "colab": {
          "base_uri": "https://localhost:8080/"
        },
        "id": "sCXQhQ5m6YES",
        "outputId": "0c56765e-7979-4018-dc2d-62f3e6dd54af"
      },
      "execution_count": 33,
      "outputs": [
        {
          "output_type": "stream",
          "name": "stdout",
          "text": [
            "Epoch 1/50\n",
            "25/25 [==============================] - 2s 6ms/step - loss: 1992.3591 - accuracy: 0.4676\n",
            "Epoch 2/50\n",
            "25/25 [==============================] - 0s 4ms/step - loss: 164.3797 - accuracy: 0.4765\n",
            "Epoch 3/50\n",
            "25/25 [==============================] - 0s 4ms/step - loss: 35.9866 - accuracy: 0.5349\n",
            "Epoch 4/50\n",
            "25/25 [==============================] - 0s 4ms/step - loss: 31.9386 - accuracy: 0.5146\n",
            "Epoch 5/50\n",
            "25/25 [==============================] - 0s 4ms/step - loss: 15.5891 - accuracy: 0.5565\n",
            "Epoch 6/50\n",
            "25/25 [==============================] - 0s 4ms/step - loss: 24.7619 - accuracy: 0.5959\n",
            "Epoch 7/50\n",
            "25/25 [==============================] - 0s 5ms/step - loss: 44.4303 - accuracy: 0.5235\n",
            "Epoch 8/50\n",
            "25/25 [==============================] - 0s 5ms/step - loss: 46.2533 - accuracy: 0.5515\n",
            "Epoch 9/50\n",
            "25/25 [==============================] - 0s 5ms/step - loss: 38.7638 - accuracy: 0.6036\n",
            "Epoch 10/50\n",
            "25/25 [==============================] - 0s 5ms/step - loss: 28.1350 - accuracy: 0.5540\n",
            "Epoch 11/50\n",
            "25/25 [==============================] - 0s 5ms/step - loss: 22.0369 - accuracy: 0.6264\n",
            "Epoch 12/50\n",
            "25/25 [==============================] - 0s 5ms/step - loss: 23.8761 - accuracy: 0.6048\n",
            "Epoch 13/50\n",
            "25/25 [==============================] - 0s 5ms/step - loss: 22.2522 - accuracy: 0.6188\n",
            "Epoch 14/50\n",
            "25/25 [==============================] - 0s 3ms/step - loss: 26.0048 - accuracy: 0.5527\n",
            "Epoch 15/50\n",
            "25/25 [==============================] - 0s 3ms/step - loss: 16.2383 - accuracy: 0.6379\n",
            "Epoch 16/50\n",
            "25/25 [==============================] - 0s 3ms/step - loss: 15.9835 - accuracy: 0.6226\n",
            "Epoch 17/50\n",
            "25/25 [==============================] - 0s 3ms/step - loss: 6.9627 - accuracy: 0.6989\n",
            "Epoch 18/50\n",
            "25/25 [==============================] - 0s 3ms/step - loss: 25.5576 - accuracy: 0.5845\n",
            "Epoch 19/50\n",
            "25/25 [==============================] - 0s 4ms/step - loss: 45.7150 - accuracy: 0.5654\n",
            "Epoch 20/50\n",
            "25/25 [==============================] - 0s 3ms/step - loss: 11.9053 - accuracy: 0.6506\n",
            "Epoch 21/50\n",
            "25/25 [==============================] - 0s 3ms/step - loss: 8.8344 - accuracy: 0.6861\n",
            "Epoch 22/50\n",
            "25/25 [==============================] - 0s 3ms/step - loss: 9.3886 - accuracy: 0.7065\n",
            "Epoch 23/50\n",
            "25/25 [==============================] - 0s 3ms/step - loss: 27.5984 - accuracy: 0.6366\n",
            "Epoch 24/50\n",
            "25/25 [==============================] - 0s 3ms/step - loss: 7.8935 - accuracy: 0.7205\n",
            "Epoch 25/50\n",
            "25/25 [==============================] - 0s 3ms/step - loss: 9.8502 - accuracy: 0.6950\n",
            "Epoch 26/50\n",
            "25/25 [==============================] - 0s 3ms/step - loss: 23.3876 - accuracy: 0.6391\n",
            "Epoch 27/50\n",
            "25/25 [==============================] - 0s 3ms/step - loss: 22.8520 - accuracy: 0.6531\n",
            "Epoch 28/50\n",
            "25/25 [==============================] - 0s 3ms/step - loss: 31.3728 - accuracy: 0.6366\n",
            "Epoch 29/50\n",
            "25/25 [==============================] - 0s 3ms/step - loss: 41.9534 - accuracy: 0.5997\n",
            "Epoch 30/50\n",
            "25/25 [==============================] - 0s 4ms/step - loss: 35.0710 - accuracy: 0.6302\n",
            "Epoch 31/50\n",
            "25/25 [==============================] - 0s 4ms/step - loss: 10.5151 - accuracy: 0.7128\n",
            "Epoch 32/50\n",
            "25/25 [==============================] - 0s 3ms/step - loss: 6.2570 - accuracy: 0.7294\n",
            "Epoch 33/50\n",
            "25/25 [==============================] - 0s 3ms/step - loss: 13.6189 - accuracy: 0.6798\n",
            "Epoch 34/50\n",
            "25/25 [==============================] - 0s 3ms/step - loss: 12.0441 - accuracy: 0.6874\n",
            "Epoch 35/50\n",
            "25/25 [==============================] - 0s 3ms/step - loss: 8.5948 - accuracy: 0.7154\n",
            "Epoch 36/50\n",
            "25/25 [==============================] - 0s 3ms/step - loss: 27.5282 - accuracy: 0.6569\n",
            "Epoch 37/50\n",
            "25/25 [==============================] - 0s 3ms/step - loss: 10.0437 - accuracy: 0.7103\n",
            "Epoch 38/50\n",
            "25/25 [==============================] - 0s 3ms/step - loss: 33.7607 - accuracy: 0.6544\n",
            "Epoch 39/50\n",
            "25/25 [==============================] - 0s 3ms/step - loss: 14.0693 - accuracy: 0.7192\n",
            "Epoch 40/50\n",
            "25/25 [==============================] - 0s 3ms/step - loss: 10.2662 - accuracy: 0.7230\n",
            "Epoch 41/50\n",
            "25/25 [==============================] - 0s 4ms/step - loss: 13.8051 - accuracy: 0.7039\n",
            "Epoch 42/50\n",
            "25/25 [==============================] - 0s 3ms/step - loss: 10.4754 - accuracy: 0.7103\n",
            "Epoch 43/50\n",
            "25/25 [==============================] - 0s 3ms/step - loss: 3.6430 - accuracy: 0.7916\n",
            "Epoch 44/50\n",
            "25/25 [==============================] - 0s 3ms/step - loss: 10.6490 - accuracy: 0.7433\n",
            "Epoch 45/50\n",
            "25/25 [==============================] - 0s 3ms/step - loss: 22.0792 - accuracy: 0.6544\n",
            "Epoch 46/50\n",
            "25/25 [==============================] - 0s 3ms/step - loss: 15.4000 - accuracy: 0.6912\n",
            "Epoch 47/50\n",
            "25/25 [==============================] - 0s 3ms/step - loss: 10.7444 - accuracy: 0.7166\n",
            "Epoch 48/50\n",
            "25/25 [==============================] - 0s 3ms/step - loss: 11.4984 - accuracy: 0.7217\n",
            "Epoch 49/50\n",
            "25/25 [==============================] - 0s 3ms/step - loss: 17.1250 - accuracy: 0.6938\n",
            "Epoch 50/50\n",
            "25/25 [==============================] - 0s 4ms/step - loss: 42.3256 - accuracy: 0.6391\n",
            "7/7 [==============================] - 0s 4ms/step - loss: 29.7709 - accuracy: 0.7005\n",
            "[29.770870208740234, 0.700507640838623]\n",
            "7/7 [==============================] - 0s 2ms/step\n",
            "Classification Report: \n",
            "               precision    recall  f1-score   support\n",
            "\n",
            "           0       0.63      0.99      0.77        99\n",
            "           1       0.98      0.41      0.58        98\n",
            "\n",
            "    accuracy                           0.70       197\n",
            "   macro avg       0.80      0.70      0.67       197\n",
            "weighted avg       0.80      0.70      0.67       197\n",
            "\n"
          ]
        }
      ]
    }
  ]
}