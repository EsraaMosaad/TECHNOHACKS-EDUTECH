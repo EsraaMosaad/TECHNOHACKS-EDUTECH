{
  "cells": [
    {
      "cell_type": "markdown",
      "metadata": {
        "id": "view-in-github",
        "colab_type": "text"
      },
      "source": [
        "<a href=\"https://colab.research.google.com/github/EsraaMosaad/TECHNOHACKS-EDUTECH/blob/main/Task_4_Image_Classification.ipynb\" target=\"_parent\"><img src=\"https://colab.research.google.com/assets/colab-badge.svg\" alt=\"Open In Colab\"/></a>"
      ]
    },
    {
      "cell_type": "code",
      "execution_count": null,
      "metadata": {
        "id": "plqyd7jf2zw0"
      },
      "outputs": [],
      "source": [
        "import numpy as np\n",
        "import matplotlib.pyplot as plt\n",
        "from numpy import argmax\n",
        "import tarfile\n",
        "import pickle"
      ]
    },
    {
      "cell_type": "code",
      "execution_count": null,
      "metadata": {
        "id": "MknMHGNL2JTU"
      },
      "outputs": [],
      "source": [
        "import warnings\n",
        "warnings.filterwarnings('ignore')"
      ]
    },
    {
      "cell_type": "markdown",
      "metadata": {
        "id": "AAcXPC4QSCiY"
      },
      "source": [
        "# **Load dataset**"
      ]
    },
    {
      "cell_type": "markdown",
      "metadata": {
        "id": "2kpLt9l8SOAA"
      },
      "source": [
        "Reference\n",
        "\n",
        "[Learning Multiple Layers of Features from Tiny Images](https://www.cs.toronto.edu/~kriz/learning-features-2009-TR.pdf), Alex Krizhevsky, 2009."
      ]
    },
    {
      "cell_type": "code",
      "execution_count": null,
      "metadata": {
        "id": "yCZZmA1WM66i"
      },
      "outputs": [],
      "source": [
        "# Specify the path to your .tar file\n",
        "file_path = '/content/drive/MyDrive/Dataset/cifar-10-python.tar'\n",
        "\n",
        "# Open the .tar file\n",
        "with tarfile.open(file_path, 'r') as tar:\n",
        "    # Extract all contents of the .tar file\n",
        "    tar.extractall()"
      ]
    },
    {
      "cell_type": "code",
      "execution_count": null,
      "metadata": {
        "colab": {
          "base_uri": "https://localhost:8080/"
        },
        "id": "WQ4ZcBl6Rvjk",
        "outputId": "a5778e40-8d44-4048-8549-ee6c9ba94db2"
      },
      "outputs": [
        {
          "data": {
            "text/plain": [
              "dict_keys([b'batch_label', b'labels', b'data', b'filenames'])"
            ]
          },
          "execution_count": 5,
          "metadata": {},
          "output_type": "execute_result"
        }
      ],
      "source": [
        "data_file = 'cifar-10-batches-py/data_batch_1'\n",
        "# Load the CIFAR-10 data file\n",
        "with open(data_file, 'rb') as f:\n",
        "    data = pickle.load(f, encoding='bytes')\n",
        "data.keys()"
      ]
    },
    {
      "cell_type": "code",
      "execution_count": null,
      "metadata": {
        "id": "ez0l90pla3yH"
      },
      "outputs": [],
      "source": [
        "import os\n",
        "import pickle\n",
        "\n",
        "# Specify the path to the directory containing the CIFAR-10 dataset files\n",
        "dataset_dir = 'cifar-10-batches-py'\n",
        "\n",
        "# Load all CIFAR-10 data batches\n",
        "data = []\n",
        "labels = []\n",
        "for filename in os.listdir(dataset_dir):\n",
        "    if filename.startswith('data_batch_'):\n",
        "        file_path = os.path.join(dataset_dir, filename)\n",
        "        with open(file_path, 'rb') as f:\n",
        "            batch_data = pickle.load(f, encoding='bytes')\n",
        "            data.append(batch_data[b'data'])\n",
        "            labels.append(batch_data[b'labels'])\n",
        "\n",
        "# # Access the data\n",
        "# for batch_data in data:\n",
        "#     # Process the batch_data as needed\n",
        "#     # ..."
      ]
    },
    {
      "cell_type": "code",
      "execution_count": null,
      "metadata": {
        "colab": {
          "base_uri": "https://localhost:8080/"
        },
        "id": "fSY1nuCucVWi",
        "outputId": "8cddaa1f-5d47-4098-8644-7d5ece107cb7"
      },
      "outputs": [
        {
          "data": {
            "text/plain": [
              "(50000, 3072)"
            ]
          },
          "execution_count": 7,
          "metadata": {},
          "output_type": "execute_result"
        }
      ],
      "source": [
        "data = np.asarray(data)\n",
        "x_train=data.reshape((-1,3072))\n",
        "x_train.shape"
      ]
    },
    {
      "cell_type": "code",
      "execution_count": null,
      "metadata": {
        "colab": {
          "base_uri": "https://localhost:8080/"
        },
        "id": "ilSX7qvueymV",
        "outputId": "91e662c5-4609-4dd3-c0a7-4dd9ecffc850"
      },
      "outputs": [
        {
          "data": {
            "text/plain": [
              "(50000, 1)"
            ]
          },
          "execution_count": 8,
          "metadata": {},
          "output_type": "execute_result"
        }
      ],
      "source": [
        "labels=np.asarray(labels)\n",
        "y_train=labels.reshape((-1,1))\n",
        "y_train.shape"
      ]
    },
    {
      "cell_type": "code",
      "execution_count": null,
      "metadata": {
        "colab": {
          "base_uri": "https://localhost:8080/"
        },
        "id": "U77w2f8JV1vc",
        "outputId": "fea18565-981c-471b-c469-70c511956dd2"
      },
      "outputs": [
        {
          "data": {
            "text/plain": [
              "dict_keys([b'batch_label', b'labels', b'data', b'filenames'])"
            ]
          },
          "execution_count": 9,
          "metadata": {},
          "output_type": "execute_result"
        }
      ],
      "source": [
        "test_file='/content/cifar-10-batches-py/test_batch'\n",
        "\n",
        "with open(test_file, 'rb') as f:\n",
        "    test = pickle.load(f, encoding='bytes')\n",
        "\n",
        "test.keys()"
      ]
    },
    {
      "cell_type": "code",
      "execution_count": null,
      "metadata": {
        "colab": {
          "base_uri": "https://localhost:8080/"
        },
        "id": "xoTpk2JKVrvI",
        "outputId": "a4879596-069a-4ad8-a658-eacb920f8511"
      },
      "outputs": [
        {
          "data": {
            "text/plain": [
              "(10000, 3072)"
            ]
          },
          "execution_count": 10,
          "metadata": {},
          "output_type": "execute_result"
        }
      ],
      "source": [
        "test_data=test[b'data']\n",
        "test_data.shape"
      ]
    },
    {
      "cell_type": "code",
      "execution_count": null,
      "metadata": {
        "colab": {
          "base_uri": "https://localhost:8080/"
        },
        "id": "F5EUG2GRWljl",
        "outputId": "4c8a8f6d-addd-4431-dc41-16c6d45fc463"
      },
      "outputs": [
        {
          "data": {
            "text/plain": [
              "(10000,)"
            ]
          },
          "execution_count": 11,
          "metadata": {},
          "output_type": "execute_result"
        }
      ],
      "source": [
        "y_test=np.asarray(test[b'labels'])\n",
        "y_test.shape"
      ]
    },
    {
      "cell_type": "markdown",
      "metadata": {
        "id": "UAkMjMfM5V2A"
      },
      "source": [
        "# **Data preprossing**"
      ]
    },
    {
      "cell_type": "code",
      "execution_count": null,
      "metadata": {
        "colab": {
          "base_uri": "https://localhost:8080/"
        },
        "id": "6-t37hdiXX_f",
        "outputId": "49bc29d0-681d-4abf-e2b0-6dd7306456e7"
      },
      "outputs": [
        {
          "data": {
            "text/plain": [
              "array([ 59,  43,  50, ..., 140,  84,  72], dtype=uint8)"
            ]
          },
          "execution_count": 12,
          "metadata": {},
          "output_type": "execute_result"
        }
      ],
      "source": [
        "x_train[0]"
      ]
    },
    {
      "cell_type": "markdown",
      "metadata": {
        "id": "p8H5mK5MXD_L"
      },
      "source": [
        "Normalize image pixel values."
      ]
    },
    {
      "cell_type": "code",
      "execution_count": null,
      "metadata": {
        "colab": {
          "base_uri": "https://localhost:8080/"
        },
        "id": "rx6Xm2y-NS77",
        "outputId": "025da883-8207-44a2-f3fe-b9718853f3e6"
      },
      "outputs": [
        {
          "data": {
            "text/plain": [
              "array([0.23137255, 0.16862745, 0.19607843, ..., 0.54901961, 0.32941176,\n",
              "       0.28235294])"
            ]
          },
          "execution_count": 13,
          "metadata": {},
          "output_type": "execute_result"
        }
      ],
      "source": [
        "x_train = x_train / 255\n",
        "x_test = test_data / 255\n",
        "x_train[0]"
      ]
    },
    {
      "cell_type": "markdown",
      "metadata": {
        "id": "87aa1XDtYzMn"
      },
      "source": [
        "# **Neural network**"
      ]
    },
    {
      "cell_type": "code",
      "execution_count": null,
      "metadata": {
        "id": "es7dD5lnY8j8"
      },
      "outputs": [],
      "source": [
        "from keras.models import Sequential\n",
        "from keras.layers import Dense"
      ]
    },
    {
      "cell_type": "code",
      "execution_count": null,
      "metadata": {
        "colab": {
          "base_uri": "https://localhost:8080/"
        },
        "id": "saTLmuEcYx56",
        "outputId": "a1a37aac-9a71-4a2d-ba9c-8f7e00bb8e70"
      },
      "outputs": [
        {
          "name": "stdout",
          "output_type": "stream",
          "text": [
            "Model: \"sequential\"\n",
            "_________________________________________________________________\n",
            " Layer (type)                Output Shape              Param #   \n",
            "=================================================================\n",
            " dense (Dense)               (None, 1024)              3146752   \n",
            "                                                                 \n",
            " dense_1 (Dense)             (None, 520)               533000    \n",
            "                                                                 \n",
            " dense_2 (Dense)             (None, 10)                5210      \n",
            "                                                                 \n",
            "=================================================================\n",
            "Total params: 3684962 (14.06 MB)\n",
            "Trainable params: 3684962 (14.06 MB)\n",
            "Non-trainable params: 0 (0.00 Byte)\n",
            "_________________________________________________________________\n"
          ]
        }
      ],
      "source": [
        "model = Sequential()\n",
        "model.add(Dense(1024,input_shape=(3072,), activation=\"relu\"))\n",
        "model.add(Dense(520,input_shape=(1024,), activation=\"relu\"))\n",
        "model.add(Dense(10,input_shape=(520,), activation=\"softmax\"))\n",
        "model.summary()"
      ]
    },
    {
      "cell_type": "code",
      "execution_count": null,
      "metadata": {
        "id": "2D9o7AykZKJZ"
      },
      "outputs": [],
      "source": [
        "model.compile(optimizer='RMSprop',loss= 'sparse_categorical_crossentropy',metrics=['accuracy'])"
      ]
    },
    {
      "cell_type": "code",
      "execution_count": null,
      "metadata": {
        "colab": {
          "base_uri": "https://localhost:8080/"
        },
        "id": "H-Fj9FfGZdE5",
        "outputId": "c85b9e3b-af6b-4826-8ee8-a2d3db5332ef"
      },
      "outputs": [
        {
          "name": "stdout",
          "output_type": "stream",
          "text": [
            "Epoch 1/30\n",
            "1563/1563 [==============================] - 73s 46ms/step - loss: 1.9402 - accuracy: 0.3126 - val_loss: 1.8091 - val_accuracy: 0.3441\n",
            "Epoch 2/30\n",
            "1563/1563 [==============================] - 71s 46ms/step - loss: 1.6946 - accuracy: 0.3934 - val_loss: 1.6369 - val_accuracy: 0.4134\n",
            "Epoch 3/30\n",
            "1563/1563 [==============================] - 72s 46ms/step - loss: 1.6298 - accuracy: 0.4185 - val_loss: 1.8022 - val_accuracy: 0.4021\n",
            "Epoch 4/30\n",
            "1563/1563 [==============================] - 75s 48ms/step - loss: 1.5908 - accuracy: 0.4316 - val_loss: 1.6477 - val_accuracy: 0.4249\n",
            "Epoch 5/30\n",
            "1563/1563 [==============================] - 75s 48ms/step - loss: 1.5687 - accuracy: 0.4433 - val_loss: 1.7630 - val_accuracy: 0.3932\n",
            "Epoch 6/30\n",
            "1563/1563 [==============================] - 75s 48ms/step - loss: 1.5541 - accuracy: 0.4513 - val_loss: 1.6393 - val_accuracy: 0.4207\n",
            "Epoch 7/30\n",
            "1563/1563 [==============================] - 72s 46ms/step - loss: 1.5471 - accuracy: 0.4537 - val_loss: 1.6158 - val_accuracy: 0.4401\n",
            "Epoch 8/30\n",
            "1563/1563 [==============================] - 75s 48ms/step - loss: 1.5405 - accuracy: 0.4555 - val_loss: 1.5696 - val_accuracy: 0.4470\n",
            "Epoch 9/30\n",
            "1563/1563 [==============================] - 78s 50ms/step - loss: 1.5341 - accuracy: 0.4603 - val_loss: 1.7899 - val_accuracy: 0.4094\n",
            "Epoch 10/30\n",
            "1563/1563 [==============================] - 74s 47ms/step - loss: 1.5307 - accuracy: 0.4575 - val_loss: 1.5339 - val_accuracy: 0.4590\n",
            "Epoch 11/30\n",
            "1563/1563 [==============================] - 73s 47ms/step - loss: 1.5325 - accuracy: 0.4585 - val_loss: 1.6778 - val_accuracy: 0.4314\n",
            "Epoch 12/30\n",
            "1563/1563 [==============================] - 73s 47ms/step - loss: 1.5270 - accuracy: 0.4643 - val_loss: 1.8759 - val_accuracy: 0.3772\n",
            "Epoch 13/30\n",
            "1563/1563 [==============================] - 74s 47ms/step - loss: 1.5260 - accuracy: 0.4643 - val_loss: 1.6516 - val_accuracy: 0.4217\n",
            "Epoch 14/30\n",
            "1563/1563 [==============================] - 74s 47ms/step - loss: 1.5245 - accuracy: 0.4621 - val_loss: 1.6338 - val_accuracy: 0.4379\n",
            "Epoch 15/30\n",
            "1563/1563 [==============================] - 75s 48ms/step - loss: 1.5199 - accuracy: 0.4643 - val_loss: 1.6580 - val_accuracy: 0.4268\n",
            "Epoch 16/30\n",
            "1563/1563 [==============================] - 74s 47ms/step - loss: 1.5172 - accuracy: 0.4668 - val_loss: 1.6337 - val_accuracy: 0.4475\n",
            "Epoch 17/30\n",
            "1563/1563 [==============================] - 73s 47ms/step - loss: 1.5140 - accuracy: 0.4686 - val_loss: 1.5914 - val_accuracy: 0.4497\n",
            "Epoch 18/30\n",
            "1563/1563 [==============================] - 73s 47ms/step - loss: 1.5134 - accuracy: 0.4691 - val_loss: 1.7715 - val_accuracy: 0.4038\n",
            "Epoch 19/30\n",
            "1563/1563 [==============================] - 73s 47ms/step - loss: 1.5149 - accuracy: 0.4704 - val_loss: 1.7097 - val_accuracy: 0.4272\n",
            "Epoch 20/30\n",
            "1563/1563 [==============================] - 74s 48ms/step - loss: 1.5168 - accuracy: 0.4722 - val_loss: 1.6919 - val_accuracy: 0.4338\n",
            "Epoch 21/30\n",
            "1563/1563 [==============================] - 75s 48ms/step - loss: 1.5163 - accuracy: 0.4698 - val_loss: 1.9598 - val_accuracy: 0.3740\n",
            "Epoch 22/30\n",
            "1563/1563 [==============================] - 74s 48ms/step - loss: 1.5236 - accuracy: 0.4703 - val_loss: 1.6775 - val_accuracy: 0.4267\n",
            "Epoch 23/30\n",
            "1563/1563 [==============================] - 75s 48ms/step - loss: 1.5157 - accuracy: 0.4706 - val_loss: 1.6975 - val_accuracy: 0.4293\n",
            "Epoch 24/30\n",
            "1563/1563 [==============================] - 74s 47ms/step - loss: 1.5137 - accuracy: 0.4715 - val_loss: 1.6711 - val_accuracy: 0.4458\n",
            "Epoch 25/30\n",
            "1563/1563 [==============================] - 75s 48ms/step - loss: 1.5136 - accuracy: 0.4700 - val_loss: 1.8157 - val_accuracy: 0.4275\n",
            "Epoch 26/30\n",
            "1563/1563 [==============================] - 75s 48ms/step - loss: 1.5129 - accuracy: 0.4743 - val_loss: 1.8427 - val_accuracy: 0.4120\n",
            "Epoch 27/30\n",
            "1563/1563 [==============================] - 74s 47ms/step - loss: 1.5168 - accuracy: 0.4707 - val_loss: 1.7471 - val_accuracy: 0.4370\n",
            "Epoch 28/30\n",
            "1563/1563 [==============================] - 74s 48ms/step - loss: 1.5185 - accuracy: 0.4755 - val_loss: 1.7190 - val_accuracy: 0.4328\n",
            "Epoch 29/30\n",
            "1563/1563 [==============================] - 74s 47ms/step - loss: 1.5096 - accuracy: 0.4737 - val_loss: 2.7395 - val_accuracy: 0.3313\n",
            "Epoch 30/30\n",
            "1563/1563 [==============================] - 77s 49ms/step - loss: 1.5114 - accuracy: 0.4752 - val_loss: 1.8748 - val_accuracy: 0.4120\n"
          ]
        }
      ],
      "source": [
        "results=model.fit(\n",
        "  x=x_train,\n",
        "  y=y_train,\n",
        "  shuffle=True,\n",
        "  epochs=30,\n",
        "  validation_data=(x_test,y_test)\n",
        ")"
      ]
    },
    {
      "cell_type": "code",
      "execution_count": null,
      "metadata": {
        "colab": {
          "base_uri": "https://localhost:8080/",
          "height": 490
        },
        "id": "lXiNcXp8aOwV",
        "outputId": "1f8f1120-7369-4198-9f66-cb99f2351564"
      },
      "outputs": [
        {
          "data": {
            "text/plain": [
              "Text(0, 0.5, 'losses')"
            ]
          },
          "execution_count": 18,
          "metadata": {},
          "output_type": "execute_result"
        },
        {
          "data": {
            "image/png": "[encoded data removed]",
            "text/plain": [
              "<Figure size 640x480 with 1 Axes>"
            ]
          },
          "metadata": {},
          "output_type": "display_data"
        }
      ],
      "source": [
        "plt.plot(results.history['loss'])\n",
        "plt.plot(results.history['val_loss'])\n",
        "plt.legend(['Training','Vaildation'])\n",
        "plt.title('Training and Validation Losses')\n",
        "plt.xlabel('epoches')\n",
        "plt.ylabel('losses')"
      ]
    },
    {
      "cell_type": "code",
      "execution_count": null,
      "metadata": {
        "colab": {
          "base_uri": "https://localhost:8080/",
          "height": 490
        },
        "id": "6cWo6wCTajMU",
        "outputId": "dc7fcfe0-8662-40f7-9a61-927b16f11ec6"
      },
      "outputs": [
        {
          "data": {
            "text/plain": [
              "Text(0, 0.5, 'accuracy')"
            ]
          },
          "execution_count": 19,
          "metadata": {},
          "output_type": "execute_result"
        },
        {
          "data": {
            "image/png": "[encoded data removed]",
            "text/plain": [
              "<Figure size 640x480 with 1 Axes>"
            ]
          },
          "metadata": {},
          "output_type": "display_data"
        }
      ],
      "source": [
        "plt.plot(results.history['accuracy'])\n",
        "plt.plot(results.history['val_accuracy'])\n",
        "plt.legend(['Training','Vaildation'])\n",
        "plt.title('Training and Validation Accuracy')\n",
        "plt.xlabel('epoches')\n",
        "plt.ylabel('accuracy')"
      ]
    },
    {
      "cell_type": "code",
      "execution_count": null,
      "metadata": {
        "colab": {
          "base_uri": "https://localhost:8080/"
        },
        "id": "IqjkH7yyjvbu",
        "outputId": "f6eb9968-ec62-449d-ce71-be1429b69f34"
      },
      "outputs": [
        {
          "name": "stdout",
          "output_type": "stream",
          "text": [
            "313/313 [==============================] - 3s 10ms/step\n"
          ]
        },
        {
          "data": {
            "text/plain": [
              "array([[9.6820801e-02, 4.7824297e-02, 6.0914982e-02, 2.2616436e-01,\n",
              "        1.8938595e-01, 1.5262702e-01, 9.2251286e-02, 4.0122360e-02,\n",
              "        7.8347035e-02, 1.5541891e-02],\n",
              "       [6.2129064e-03, 3.9488360e-01, 4.7679951e-05, 4.5206405e-05,\n",
              "        7.1574409e-06, 4.5474644e-06, 4.1652561e-07, 4.8648899e-06,\n",
              "        8.6736143e-02, 5.1205742e-01],\n",
              "       [1.8107500e-02, 4.1407570e-01, 9.0217299e-04, 3.0715737e-04,\n",
              "        1.0242471e-04, 9.2862192e-06, 1.0614041e-08, 3.5318013e-04,\n",
              "        7.3557481e-02, 4.9258503e-01]], dtype=float32)"
            ]
          },
          "execution_count": 20,
          "metadata": {},
          "output_type": "execute_result"
        }
      ],
      "source": [
        "pred=model.predict(x_test)\n",
        "pred[0:3]"
      ]
    },
    {
      "cell_type": "code",
      "execution_count": null,
      "metadata": {
        "colab": {
          "base_uri": "https://localhost:8080/"
        },
        "id": "TEh0u5qVj0hr",
        "outputId": "e33ffa80-ea15-4dbc-878a-f877ad59502c"
      },
      "outputs": [
        {
          "data": {
            "text/plain": [
              "array([3, 9, 9])"
            ]
          },
          "execution_count": 21,
          "metadata": {},
          "output_type": "execute_result"
        }
      ],
      "source": [
        "from numpy import argmax\n",
        "y_pred=argmax(pred,axis=1)\n",
        "y_pred[0:3]"
      ]
    },
    {
      "cell_type": "code",
      "execution_count": null,
      "metadata": {
        "colab": {
          "base_uri": "https://localhost:8080/"
        },
        "id": "gnPgjiaJjowG",
        "outputId": "a746e761-8ca2-4aaa-89e5-0dccfeb5405f"
      },
      "outputs": [
        {
          "name": "stdout",
          "output_type": "stream",
          "text": [
            "[[336  13  54  19  27  12   8  23  56  11]\n",
            " [161 738  72  80  57  65  71  65 184 306]\n",
            " [ 13   3  76  16  15  17   7   8   4   2]\n",
            " [ 34   9 132 310  69 222 134  51  11  16]\n",
            " [ 63  17 297 120 479  99 220 106  43  13]\n",
            " [ 13   8  63 152  30 274  70  41  18   5]\n",
            " [ 13   9  76  83  82  55 363  19   4  14]\n",
            " [ 49  25 129  91 160 152  45 517   9  38]\n",
            " [151  29  28  28  27  33  22  15 459  27]\n",
            " [167 149  73 101  54  71  60 155 212 568]]\n",
            "0.412\n"
          ]
        }
      ],
      "source": [
        "from sklearn.metrics import accuracy_score,confusion_matrix\n",
        "print(confusion_matrix(y_pred,y_test))\n",
        "print(accuracy_score(y_pred,y_test))"
      ]
    },
    {
      "cell_type": "markdown",
      "metadata": {
        "id": "R6hY_AtOgr4p"
      },
      "source": [
        "# **CNN**"
      ]
    },
    {
      "cell_type": "code",
      "execution_count": null,
      "metadata": {
        "id": "99vyeU0Mh0qJ"
      },
      "outputs": [],
      "source": [
        "from keras.layers import Input, Dense, Dropout,Conv2D, MaxPooling2D, Flatten"
      ]
    },
    {
      "cell_type": "code",
      "execution_count": null,
      "metadata": {
        "colab": {
          "base_uri": "https://localhost:8080/"
        },
        "id": "HlwtuxDniaOe",
        "outputId": "cd5208d0-1624-4104-c4a5-02983b02cc14"
      },
      "outputs": [
        {
          "data": {
            "text/plain": [
              "(50000, 32, 32, 3)"
            ]
          },
          "execution_count": 24,
          "metadata": {},
          "output_type": "execute_result"
        }
      ],
      "source": [
        "cnn_x_train = x_train.reshape(-1,32,32,3)\n",
        "cnn_x_test = x_test.reshape(-1,32,32,3)\n",
        "cnn_x_train.shape"
      ]
    },
    {
      "cell_type": "code",
      "execution_count": null,
      "metadata": {
        "colab": {
          "base_uri": "https://localhost:8080/"
        },
        "id": "Hy_1pd3LhpR8",
        "outputId": "207f03a3-9c2b-4448-8c0f-427dedb66cdb"
      },
      "outputs": [
        {
          "name": "stdout",
          "output_type": "stream",
          "text": [
            "Model: \"sequential_1\"\n",
            "_________________________________________________________________\n",
            " Layer (type)                Output Shape              Param #   \n",
            "=================================================================\n",
            " conv2d (Conv2D)             (None, 32, 32, 32)        896       \n",
            "                                                                 \n",
            " conv2d_1 (Conv2D)           (None, 30, 30, 32)        9248      \n",
            "                                                                 \n",
            " max_pooling2d (MaxPooling2  (None, 15, 15, 32)        0         \n",
            " D)                                                              \n",
            "                                                                 \n",
            " dropout (Dropout)           (None, 15, 15, 32)        0         \n",
            "                                                                 \n",
            " conv2d_2 (Conv2D)           (None, 15, 15, 64)        18496     \n",
            "                                                                 \n",
            " conv2d_3 (Conv2D)           (None, 13, 13, 64)        36928     \n",
            "                                                                 \n",
            " max_pooling2d_1 (MaxPoolin  (None, 6, 6, 64)          0         \n",
            " g2D)                                                            \n",
            "                                                                 \n",
            " dropout_1 (Dropout)         (None, 6, 6, 64)          0         \n",
            "                                                                 \n",
            " conv2d_4 (Conv2D)           (None, 6, 6, 64)          36928     \n",
            "                                                                 \n",
            " conv2d_5 (Conv2D)           (None, 4, 4, 64)          36928     \n",
            "                                                                 \n",
            " max_pooling2d_2 (MaxPoolin  (None, 2, 2, 64)          0         \n",
            " g2D)                                                            \n",
            "                                                                 \n",
            " dropout_2 (Dropout)         (None, 2, 2, 64)          0         \n",
            "                                                                 \n",
            " flatten (Flatten)           (None, 256)               0         \n",
            "                                                                 \n",
            " dense_3 (Dense)             (None, 512)               131584    \n",
            "                                                                 \n",
            " dropout_3 (Dropout)         (None, 512)               0         \n",
            "                                                                 \n",
            " dense_4 (Dense)             (None, 10)                5130      \n",
            "                                                                 \n",
            "=================================================================\n",
            "Total params: 276138 (1.05 MB)\n",
            "Trainable params: 276138 (1.05 MB)\n",
            "Non-trainable params: 0 (0.00 Byte)\n",
            "_________________________________________________________________\n"
          ]
        }
      ],
      "source": [
        "CNN_model=Sequential() #Create a network sequence.\n",
        "\n",
        "CNN_model.add(Input(shape=(32,32,3)))\n",
        "CNN_model.add(Conv2D(32, (3, 3), padding='same',activation='relu'))\n",
        "CNN_model.add(Conv2D(32, (3, 3), activation='relu'))\n",
        "CNN_model.add(MaxPooling2D(pool_size=(2, 2)))\n",
        "CNN_model.add(Dropout(0.30))\n",
        "CNN_model.add(Conv2D(64, (3, 3), padding='same', activation='relu'))\n",
        "CNN_model.add(Conv2D(64, (3, 3), activation='relu'))\n",
        "CNN_model.add(MaxPooling2D(pool_size=(2, 2)))\n",
        "CNN_model.add(Dropout(0.25))\n",
        "CNN_model.add(Conv2D(64, (3, 3), padding='same', activation='relu'))\n",
        "CNN_model.add(Conv2D(64, (3, 3), activation='relu'))\n",
        "CNN_model.add(MaxPooling2D(pool_size=(2, 2)))\n",
        "CNN_model.add(Dropout(0.25))\n",
        "CNN_model.add(Flatten())\n",
        "CNN_model.add(Dense(512, activation='relu'))\n",
        "CNN_model.add(Dropout(0.25))\n",
        "CNN_model.add(Dense(10, activation='softmax'))\n",
        "\n",
        "CNN_model.summary()"
      ]
    },
    {
      "cell_type": "code",
      "execution_count": null,
      "metadata": {
        "colab": {
          "background_save": true,
          "base_uri": "https://localhost:8080/"
        },
        "id": "sJ-axNDXiOCY",
        "outputId": "e516747d-f598-4627-cbd9-163f9fc37a16"
      },
      "outputs": [
        {
          "name": "stdout",
          "output_type": "stream",
          "text": [
            "Epoch 1/55\n",
            "782/782 [==============================] - 247s 313ms/step - loss: 1.8375 - accuracy: 0.3155 - val_loss: 1.5909 - val_accuracy: 0.4119\n",
            "Epoch 2/55\n",
            "782/782 [==============================] - 253s 324ms/step - loss: 1.5766 - accuracy: 0.4218 - val_loss: 1.4789 - val_accuracy: 0.4663\n",
            "Epoch 3/55\n",
            "782/782 [==============================] - 253s 324ms/step - loss: 1.4580 - accuracy: 0.4693 - val_loss: 1.3482 - val_accuracy: 0.5147\n",
            "Epoch 4/55\n",
            "782/782 [==============================] - 256s 328ms/step - loss: 1.3663 - accuracy: 0.5056 - val_loss: 1.2723 - val_accuracy: 0.5433\n",
            "Epoch 5/55\n",
            "782/782 [==============================] - 253s 324ms/step - loss: 1.3048 - accuracy: 0.5304 - val_loss: 1.2452 - val_accuracy: 0.5563\n",
            "Epoch 6/55\n",
            "782/782 [==============================] - 253s 324ms/step - loss: 1.2642 - accuracy: 0.5481 - val_loss: 1.1921 - val_accuracy: 0.5785\n",
            "Epoch 7/55\n",
            "782/782 [==============================] - 253s 324ms/step - loss: 1.2259 - accuracy: 0.5626 - val_loss: 1.1747 - val_accuracy: 0.5833\n",
            "Epoch 8/55\n",
            "782/782 [==============================] - 253s 324ms/step - loss: 1.1912 - accuracy: 0.5742 - val_loss: 1.1263 - val_accuracy: 0.6012\n",
            "Epoch 9/55\n",
            "782/782 [==============================] - 253s 324ms/step - loss: 1.1582 - accuracy: 0.5873 - val_loss: 1.1039 - val_accuracy: 0.6063\n",
            "Epoch 10/55\n",
            "782/782 [==============================] - 253s 324ms/step - loss: 1.1383 - accuracy: 0.5972 - val_loss: 1.1324 - val_accuracy: 0.5990\n",
            "Epoch 11/55\n",
            "782/782 [==============================] - 253s 323ms/step - loss: 1.1164 - accuracy: 0.6039 - val_loss: 1.0974 - val_accuracy: 0.6126\n",
            "Epoch 12/55\n",
            "782/782 [==============================] - 245s 313ms/step - loss: 1.0971 - accuracy: 0.6123 - val_loss: 1.0759 - val_accuracy: 0.6202\n",
            "Epoch 13/55\n",
            "782/782 [==============================] - 251s 320ms/step - loss: 1.0855 - accuracy: 0.6169 - val_loss: 1.0730 - val_accuracy: 0.6224\n",
            "Epoch 14/55\n",
            "782/782 [==============================] - 243s 311ms/step - loss: 1.0658 - accuracy: 0.6205 - val_loss: 1.0742 - val_accuracy: 0.6258\n",
            "Epoch 15/55\n",
            "782/782 [==============================] - 246s 314ms/step - loss: 1.0620 - accuracy: 0.6232 - val_loss: 1.0412 - val_accuracy: 0.6351\n",
            "Epoch 16/55\n",
            "782/782 [==============================] - 237s 303ms/step - loss: 1.0480 - accuracy: 0.6311 - val_loss: 1.0596 - val_accuracy: 0.6222\n",
            "Epoch 17/55\n",
            "782/782 [==============================] - 234s 300ms/step - loss: 1.0299 - accuracy: 0.6369 - val_loss: 1.0640 - val_accuracy: 0.6242\n",
            "Epoch 18/55\n",
            "782/782 [==============================] - 245s 313ms/step - loss: 1.0161 - accuracy: 0.6415 - val_loss: 1.0301 - val_accuracy: 0.6413\n",
            "Epoch 19/55\n",
            "782/782 [==============================] - 245s 313ms/step - loss: 1.0067 - accuracy: 0.6445 - val_loss: 1.0369 - val_accuracy: 0.6402\n",
            "Epoch 20/55\n",
            "782/782 [==============================] - 245s 314ms/step - loss: 1.0081 - accuracy: 0.6454 - val_loss: 1.0147 - val_accuracy: 0.6442\n",
            "Epoch 21/55\n",
            "782/782 [==============================] - 245s 313ms/step - loss: 0.9922 - accuracy: 0.6494 - val_loss: 1.0760 - val_accuracy: 0.6247\n",
            "Epoch 22/55\n",
            "782/782 [==============================] - 245s 313ms/step - loss: 0.9863 - accuracy: 0.6537 - val_loss: 1.0136 - val_accuracy: 0.6485\n",
            "Epoch 23/55\n",
            "782/782 [==============================] - 246s 315ms/step - loss: 0.9819 - accuracy: 0.6540 - val_loss: 1.0053 - val_accuracy: 0.6513\n",
            "Epoch 24/55\n",
            "782/782 [==============================] - 237s 303ms/step - loss: 0.9692 - accuracy: 0.6584 - val_loss: 1.0031 - val_accuracy: 0.6501\n",
            "Epoch 25/55\n",
            "782/782 [==============================] - 236s 301ms/step - loss: 0.9645 - accuracy: 0.6602 - val_loss: 0.9994 - val_accuracy: 0.6467\n",
            "Epoch 26/55\n",
            "782/782 [==============================] - 248s 318ms/step - loss: 0.9597 - accuracy: 0.6629 - val_loss: 0.9890 - val_accuracy: 0.6568\n",
            "Epoch 27/55\n",
            "782/782 [==============================] - 246s 314ms/step - loss: 0.9570 - accuracy: 0.6618 - val_loss: 1.0030 - val_accuracy: 0.6472\n",
            "Epoch 28/55\n",
            "782/782 [==============================] - 237s 303ms/step - loss: 0.9485 - accuracy: 0.6672 - val_loss: 1.0038 - val_accuracy: 0.6513\n",
            "Epoch 29/55\n",
            "782/782 [==============================] - 236s 301ms/step - loss: 0.9488 - accuracy: 0.6658 - val_loss: 0.9996 - val_accuracy: 0.6488\n",
            "Epoch 30/55\n",
            "782/782 [==============================] - 238s 304ms/step - loss: 0.9392 - accuracy: 0.6700 - val_loss: 0.9620 - val_accuracy: 0.6662\n",
            "Epoch 31/55\n",
            "782/782 [==============================] - 236s 302ms/step - loss: 0.9367 - accuracy: 0.6697 - val_loss: 0.9634 - val_accuracy: 0.6642\n",
            "Epoch 32/55\n",
            "782/782 [==============================] - 246s 314ms/step - loss: 0.9301 - accuracy: 0.6721 - val_loss: 0.9791 - val_accuracy: 0.6562\n",
            "Epoch 33/55\n",
            "782/782 [==============================] - 238s 304ms/step - loss: 0.9235 - accuracy: 0.6762 - val_loss: 0.9789 - val_accuracy: 0.6627\n",
            "Epoch 34/55\n",
            "782/782 [==============================] - 236s 301ms/step - loss: 0.9196 - accuracy: 0.6784 - val_loss: 0.9660 - val_accuracy: 0.6638\n",
            "Epoch 35/55\n",
            "782/782 [==============================] - 246s 315ms/step - loss: 0.9134 - accuracy: 0.6780 - val_loss: 0.9397 - val_accuracy: 0.6751\n",
            "Epoch 36/55\n",
            "782/782 [==============================] - 246s 315ms/step - loss: 0.9114 - accuracy: 0.6788 - val_loss: 0.9347 - val_accuracy: 0.6732\n",
            "Epoch 37/55\n",
            "782/782 [==============================] - 243s 311ms/step - loss: 0.9153 - accuracy: 0.6780 - val_loss: 0.9606 - val_accuracy: 0.6675\n",
            "Epoch 38/55\n",
            "782/782 [==============================] - 234s 299ms/step - loss: 0.9102 - accuracy: 0.6797 - val_loss: 0.9537 - val_accuracy: 0.6748\n",
            "Epoch 39/55\n",
            "782/782 [==============================] - 240s 307ms/step - loss: 0.9088 - accuracy: 0.6823 - val_loss: 0.9542 - val_accuracy: 0.6728\n",
            "Epoch 40/55\n",
            "782/782 [==============================] - 235s 301ms/step - loss: 0.9009 - accuracy: 0.6823 - val_loss: 0.9721 - val_accuracy: 0.6656\n",
            "Epoch 41/55\n",
            "782/782 [==============================] - 247s 316ms/step - loss: 0.9038 - accuracy: 0.6810 - val_loss: 0.9653 - val_accuracy: 0.6625\n",
            "Epoch 42/55\n",
            "782/782 [==============================] - 246s 315ms/step - loss: 0.8946 - accuracy: 0.6863 - val_loss: 0.9779 - val_accuracy: 0.6597\n",
            "Epoch 43/55\n",
            "782/782 [==============================] - 248s 317ms/step - loss: 0.8956 - accuracy: 0.6852 - val_loss: 0.9770 - val_accuracy: 0.6587\n",
            "Epoch 44/55\n",
            "782/782 [==============================] - 250s 320ms/step - loss: 0.8901 - accuracy: 0.6880 - val_loss: 1.0277 - val_accuracy: 0.6554\n",
            "Epoch 45/55\n",
            "782/782 [==============================] - 236s 302ms/step - loss: 0.8921 - accuracy: 0.6871 - val_loss: 0.9824 - val_accuracy: 0.6646\n",
            "Epoch 46/55\n",
            "782/782 [==============================] - 250s 320ms/step - loss: 0.8827 - accuracy: 0.6882 - val_loss: 0.9772 - val_accuracy: 0.6642\n",
            "Epoch 47/55\n",
            "782/782 [==============================] - 236s 301ms/step - loss: 0.8800 - accuracy: 0.6915 - val_loss: 0.9594 - val_accuracy: 0.6664\n",
            "Epoch 48/55\n",
            "782/782 [==============================] - 239s 305ms/step - loss: 0.8775 - accuracy: 0.6898 - val_loss: 0.9493 - val_accuracy: 0.6748\n",
            "Epoch 49/55\n",
            "782/782 [==============================] - 236s 302ms/step - loss: 0.8780 - accuracy: 0.6892 - val_loss: 0.9506 - val_accuracy: 0.6728\n",
            "Epoch 50/55\n",
            "782/782 [==============================] - 248s 317ms/step - loss: 0.8738 - accuracy: 0.6922 - val_loss: 0.9418 - val_accuracy: 0.6770\n",
            "Epoch 51/55\n",
            "782/782 [==============================] - 243s 310ms/step - loss: 0.8658 - accuracy: 0.6943 - val_loss: 0.9396 - val_accuracy: 0.6785\n",
            "Epoch 52/55\n",
            "782/782 [==============================] - 233s 298ms/step - loss: 0.8728 - accuracy: 0.6936 - val_loss: 0.9364 - val_accuracy: 0.6761\n",
            "Epoch 53/55\n",
            "782/782 [==============================] - 232s 296ms/step - loss: 0.8706 - accuracy: 0.6943 - val_loss: 0.9464 - val_accuracy: 0.6732\n",
            "Epoch 54/55\n",
            "782/782 [==============================] - 235s 301ms/step - loss: 0.8667 - accuracy: 0.6930 - val_loss: 0.9653 - val_accuracy: 0.6659\n",
            "Epoch 55/55\n",
            "782/782 [==============================] - 234s 300ms/step - loss: 0.8642 - accuracy: 0.6981 - val_loss: 0.9612 - val_accuracy: 0.6721\n"
          ]
        }
      ],
      "source": [
        "CNN_model.compile(optimizer='Adam',loss=\"sparse_categorical_crossentropy\",metrics=['accuracy'])\n",
        "cnn_results= CNN_model.fit(cnn_x_train,y_train,epochs=55,batch_size=64,validation_data=(cnn_x_test, y_test))"
      ]
    },
    {
      "cell_type": "code",
      "execution_count": null,
      "metadata": {
        "colab": {
          "background_save": true
        },
        "id": "GZ-OszVase_Y",
        "outputId": "2f0d12b5-a664-4c25-dd9b-e0e690fc9405"
      },
      "outputs": [
        {
          "data": {
            "text/plain": [
              "Text(0, 0.5, 'losses')"
            ]
          },
          "execution_count": 27,
          "metadata": {},
          "output_type": "execute_result"
        },
        {
          "data": {
            "image/png": "[encoded data removed]",
            "text/plain": [
              "<Figure size 640x480 with 1 Axes>"
            ]
          },
          "metadata": {},
          "output_type": "display_data"
        }
      ],
      "source": [
        "plt.plot(cnn_results.history['loss'])\n",
        "plt.plot(cnn_results.history['val_loss'])\n",
        "plt.legend(['Training','Vaildation'])\n",
        "plt.title('Training and Validation Losses')\n",
        "plt.xlabel('epoches')\n",
        "plt.ylabel('losses')"
      ]
    },
    {
      "cell_type": "code",
      "execution_count": null,
      "metadata": {
        "colab": {
          "background_save": true
        },
        "id": "0U4o6DPZkchd",
        "outputId": "cd9c30a2-d093-462e-93e9-9ff21b8c7224"
      },
      "outputs": [
        {
          "data": {
            "text/plain": [
              "Text(0, 0.5, 'accuracy')"
            ]
          },
          "execution_count": 28,
          "metadata": {},
          "output_type": "execute_result"
        },
        {
          "data": {
            "image/png": "[encoded data removed]",
            "text/plain": [
              "<Figure size 640x480 with 1 Axes>"
            ]
          },
          "metadata": {},
          "output_type": "display_data"
        }
      ],
      "source": [
        "plt.plot(cnn_results.history['accuracy'])\n",
        "plt.plot(cnn_results.history['val_accuracy'])\n",
        "plt.legend(['Training','Vaildation'])\n",
        "plt.title('Training and Validation Accuracy')\n",
        "plt.xlabel('epoches')\n",
        "plt.ylabel('accuracy')"
      ]
    },
    {
      "cell_type": "code",
      "execution_count": null,
      "metadata": {
        "colab": {
          "background_save": true
        },
        "id": "bSXp91Zak4qs",
        "outputId": "202b4b3a-e6f3-49ec-edde-61cabe97f493"
      },
      "outputs": [
        {
          "name": "stdout",
          "output_type": "stream",
          "text": [
            "313/313 [==============================] - 12s 39ms/step\n"
          ]
        },
        {
          "data": {
            "text/plain": [
              "array([[1.09598134e-03, 7.77946785e-02, 1.24135604e-02, 3.30522835e-01,\n",
              "        7.37154949e-03, 3.36212844e-01, 1.86829492e-01, 4.19331621e-03,\n",
              "        1.60659123e-02, 2.74997447e-02],\n",
              "       [1.98199414e-02, 2.16021971e-03, 1.00281984e-04, 2.58249725e-04,\n",
              "        3.79499907e-05, 3.04216646e-05, 1.85064455e-05, 1.93035048e-05,\n",
              "        9.76716518e-01, 8.38512031e-04],\n",
              "       [1.37421131e-01, 7.94484392e-02, 1.12582976e-03, 1.28400640e-03,\n",
              "        1.60780381e-02, 3.42654064e-04, 5.33389277e-04, 9.17481375e-04,\n",
              "        7.13556409e-01, 4.92925420e-02]], dtype=float32)"
            ]
          },
          "execution_count": 29,
          "metadata": {},
          "output_type": "execute_result"
        }
      ],
      "source": [
        "cnn_pred=CNN_model.predict(cnn_x_test)\n",
        "cnn_pred[0:3]"
      ]
    },
    {
      "cell_type": "code",
      "execution_count": null,
      "metadata": {
        "colab": {
          "background_save": true
        },
        "id": "6DbU2NMqlGyH",
        "outputId": "29f1f018-c67d-4199-8f2a-95c4f9250cac"
      },
      "outputs": [
        {
          "data": {
            "text/plain": [
              "array([5, 8, 8])"
            ]
          },
          "execution_count": 30,
          "metadata": {},
          "output_type": "execute_result"
        }
      ],
      "source": [
        "cnn_y_pred=argmax(cnn_pred,axis=1)\n",
        "cnn_y_pred[0:3]"
      ]
    },
    {
      "cell_type": "code",
      "execution_count": null,
      "metadata": {
        "colab": {
          "background_save": true
        },
        "id": "b_0iSkODlixl",
        "outputId": "b62a5732-9f26-4030-b834-15efc050b2e1"
      },
      "outputs": [
        {
          "name": "stdout",
          "output_type": "stream",
          "text": [
            "[[674   6  57  16  11   7   4   6  49  27]\n",
            " [ 17 747  10  11   4   5  10   2  35  46]\n",
            " [ 56   4 388  38  37  17   8   6   8   3]\n",
            " [ 25  13 119 515  55 248  84  45  18  19]\n",
            " [ 43   7 178 105 684  84  42  68  22   6]\n",
            " [ 10   5  74 110  22 505  27  57   9   9]\n",
            " [ 19   9 103  90  73  46 793  12   3   5]\n",
            " [ 17   1  36  41  98  61   6 763   6  13]\n",
            " [ 79  20  12  16   5  12   7   3 802  22]\n",
            " [ 60 188  23  58  11  15  19  38  48 850]]\n",
            "0.6721\n"
          ]
        }
      ],
      "source": [
        "from sklearn.metrics import accuracy_score,confusion_matrix\n",
        "print(confusion_matrix(cnn_y_pred,y_test))\n",
        "print(accuracy_score(cnn_y_pred,y_test))"
      ]
    }
  ],
  "metadata": {
    "accelerator": "GPU",
    "colab": {
      "provenance": [],
      "mount_file_id": "1V3LtfZgI2kLg_pUlC_3TKDyhBhBqRtWC",
      "authorship_tag": "ABX9TyP/BaAqck1TV1RvckxO/hkS",
      "include_colab_link": true
    },
    "kernelspec": {
      "display_name": "Python 3",
      "name": "python3"
    },
    "language_info": {
      "name": "python"
    }
  },
  "nbformat": 4,
  "nbformat_minor": 0
}